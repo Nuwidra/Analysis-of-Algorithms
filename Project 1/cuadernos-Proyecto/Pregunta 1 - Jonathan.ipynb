{
 "cells": [
  {
   "cell_type": "markdown",
   "metadata": {},
   "source": [
    "# Plan de investigación\n",
    "## Problema\n",
    "Para cada algoritmo de ordenamiento estudiado hasta el momento en el curso - a saber: ordenamiento por selección, ordenamiento por inserción, ordenamiento burbuja, quicksort, y mergesort -, si ejecutamos el algoritmo en una máquina concreta, ¿coincide su comportamiento temporal con los resultados predichos teóricamente (inlcuyendo los distintos casos)?\n",
    "## Hipótesis \n",
    "\n",
    "Los algoritmos coinciden con los resultados teóricos previstos por que dicho comportamiento es condicionado por el tamaño de la entrada y la cantidad de pasos del programa, lo cual tiene una relación con el tiempo de ejecución.\n",
    "\n",
    "## Metodología \n",
    "\n",
    "Se realizará los siguientes experimentos:\n",
    "\n",
    "* **1.1 Verificar la complejidad temporal:** Del mejor caso, peor caso y el caso promedio del método de ordenamiento por inserción\n",
    "\n",
    "* **1.2 Verificar la complejidad temporal:** Caso unico del método de ordenamiento por selección\n",
    "\n",
    "* **1.3 Verificar la complejidad temporal:** Caso unico del método de ordenamiento por burbuja\n",
    "\n",
    "* **1.4 Verificar la complejidad temporal:** Del mejor caso, peor caso y el caso promedio del método de ordenamiento por quicksort\n",
    "\n",
    "* **1.5 Verificar la complejidad temporal:** Caso unico del método de ordenamiento por mergesort\n",
    "\n",
    "Para la complejidad temporal de los algoritmos de **selección, burbuja y mergesort** se utilizará un arreglo númerico aleatorio ya que los dichos algoritmos **NO** tienen casos.\n",
    "\n",
    "Se utilizará la biblioteca `big_o` para estimar la clase de complejidad temporal para **inserción y quicksort**, teniendo en cuenta los siguientes casos:\n",
    "  * Mejor caso\n",
    "  * Peor caso\n",
    "  * Caso promedio\n",
    "  \n",
    "Para el mejor caso se utilizará una lista númerica ordenada ascendentemente, como por ejemplo:\n",
    "~~~\n",
    "lista_mejor_caso = [1,2,3,4]\n",
    "~~~\n",
    "Para el peor caso se utilizará una lista númerica ordenada decendentemente, como por ejemplo:\n",
    "~~~\n",
    "lista_peor_caso = [4,3,2,1]\n",
    "~~~\n",
    "Para el caso promedio se utilizará una lista parcialmente ordenada, como por ejemplo:\n",
    "~~~\n",
    "lista_caso_promedio = [1,4,2,3]\n",
    "~~~\n",
    "Se propone usar los distitos casos anteriores para que con ayuda de los respectivos algoritmos de ordenamiento llegar a concluir la cantidad de repeticiones que realiza cada una de ellas con los distintos casos, para poder llegar a observar un comportamiento similar entre los métodos de ordenamiento en sus distintos casos anteriormente mencionados.\n",
    "\n",
    "Los pasos a seguir para el desarrollo correcto de dicho comportamiento en cuanto a las coincidencias que pueden llegar a tener los algoritmos son:\n",
    "\n",
    "  * Implementar los algoritmos de ordenamiento de selección, inserción, burbuja, quicksort y mergesort.\n",
    "  * Que dichos algoritmos tengan como parametros una lista de númerica.\n",
    "  * Implementar una lista númerica ascendentemente de números enteros para el mejor caso\n",
    "  * Implementar una lista númerica decentemente de números enteros para el peor caso\n",
    "  * Función de generación de arreglos númericos de números enteros en orden aleatorio\n",
    "\n",
    "Cabe resalta que los datos que van a producir dichas funciones serán listas ordenadas.\n",
    "\n",
    "De acuerdo con el resultado teórico, se espera un valor de $r^2$ cercano a 1.\n",
    "\n",
    "Adicionalmente se graficarán los resultados de tiempo de ejecución y la función de complejidad aproximada por `big_o`.\n",
    "\n",
    "### 1. Validación de complejidad de los algoritmos\n",
    "\n",
    "#### 1.1 Verificar la complejidad temporal del mejor caso, peor caso y el caso promedio del método de ordenamiento por inserción\n",
    "Se utilizará la biblioteca `big_o` para estimar la clase de complejidad temporal de la ejecución del mejor caso. \n",
    "Se ejecutará una prueba de `big_o` con los siguientes parámetros para todos los algoritmos:\n",
    "\n",
    "**Para el mejor caso**\n",
    "* `min_n` = 10\n",
    "* `max_n` = 1000\n",
    "* `n_measures` = 990\n",
    "* `n_repeats` = 3\n",
    "* `classes` = `[cls.Quadratic]`\n",
    "* Lista númerica ascendente de números enteros\n",
    "\n",
    "**Para el peor caso**\n",
    "* `min_n` = 10\n",
    "* `max_n` = 1000\n",
    "* `n_measures` = 990\n",
    "* `n_repeats` = 3\n",
    "* `classes` = `[cls.Quadratic]`\n",
    "* Lista númerica descendente de números enteros\n",
    "\n",
    "**Para el caso promedio**\n",
    "* `min_n` = 10\n",
    "* `max_n` = 1000\n",
    "* `n_measures` = 990\n",
    "* `n_repeats` = 3\n",
    "* `classes` = `[cls.Quadratic]`\n",
    "* Lista númerica de orden aleatorio de números enteros\n",
    "\n",
    "#### 1.2 Verificar la complejidad temporal del ordenamiento por selección\n",
    "Se utilizará la biblioteca `big_o` para estimar la clase de complejidad temporal. \n",
    "Se ejecutará una prueba de `big_o` con los siguientes parámetros para todos los algoritmos:\n",
    "\n",
    "**Para el caso de selección**\n",
    "* `min_n` = 10\n",
    "* `max_n` = 1000\n",
    "* `n_measures` = 990\n",
    "* `n_repeats` = 3\n",
    "* `classes` = `[cls.Quadratic]`\n",
    "* Lista númerica de orden aleatorio de números enteros\n",
    "\n",
    "#### 1.3 Verificar la complejidad temporal del mejor caso, peor caso y el caso promedio del método de ordenamiento por burbuja\n",
    "Se utilizará la biblioteca `big_o` para estimar la clase de complejidad temporal. \n",
    "Se ejecutará una prueba de `big_o` con los siguientes parámetros para todos los algoritmos:\n",
    "\n",
    "\n",
    "**Para el caso de burbuja**\n",
    "* `min_n` = 10\n",
    "* `max_n` = 1000\n",
    "* `n_measures` = 990\n",
    "* `n_repeats` = 3\n",
    "* `classes` = `[cls.Quadratic]`\n",
    "* Lista númerica de orden aleatorio de números enteros\n",
    "\n",
    "#### 1.4 Verificar la complejidad temporal del mejor caso, peor caso y el caso promedio del método de ordenamiento por quicksort\n",
    "Se utilizará la biblioteca `big_o` para estimar la clase de complejidad temporal de la ejecución del mejor caso. \n",
    "Se ejecutará una prueba de `big_o` con los siguientes parámetros para todos los algoritmos:\n",
    "\n",
    "**Para el mejor caso**\n",
    "* `min_n` = 10\n",
    "* `max_n` = 1000\n",
    "* `n_measures` = 990\n",
    "* `n_repeats` = 3\n",
    "* `classes` = `[cls.Linearithmic]`\n",
    "* Lista númerica ascendente de números enteros\n",
    "* El pivote para el mejor caso se tomará el dígito que este a la mitad del arreglo `lista[((len(lista)-1)//2)]`\n",
    "\n",
    "**Para el peor caso**\n",
    "* `min_n` = 10\n",
    "* `max_n` = 1000\n",
    "* `n_measures` = 990\n",
    "* `n_repeats` = 3\n",
    "* `classes` = `[cls.Quadratic]`\n",
    "* Lista númerica descendente de números enteros\n",
    "* El pivote para el peor caso se tomará el primer dígito del arreglo `lista[0]`\n",
    "\n",
    "**Para el caso promedio**\n",
    "* `min_n` = 10\n",
    "* `max_n` = 1000\n",
    "* `n_measures` = 990\n",
    "* `n_repeats` = 3\n",
    "* `classes` = `[cls.Linearithmic]`\n",
    "* Lista númerica de orden aleatorio de números enteros\n",
    "* El pivote para el caso promedio se tomará de forma aleatoria `lista[random.randint(0,len(lista)-1)]`\n",
    "\n",
    "#### 1.5 Verificar la complejidad temporal del mejor caso, peor caso y el caso promedio del método de ordenamiento por mergesort\n",
    "Se utilizará la biblioteca `big_o` para estimar la clase de complejidad temporal. \n",
    "Se ejecutará una prueba de `big_o` con los siguientes parámetros para todos los algoritmos:\n",
    "\n",
    "**Para el caso de mergesort**\n",
    "* `min_n` = 10\n",
    "* `max_n` = 1000\n",
    "* `n_measures` = 990\n",
    "* `n_repeats` = 3\n",
    "* `classes` = `[cls.Linearithmic]`\n",
    "* Lista númerica de orden aleatorio de números enteros\n"
   ]
  },
  {
   "cell_type": "markdown",
   "metadata": {},
   "source": [
    "**Algoritmo de ordenamiento por inserción**"
   ]
  },
  {
   "cell_type": "code",
   "execution_count": 1,
   "metadata": {},
   "outputs": [],
   "source": [
    "from implementación_algoritmos import insercion"
   ]
  },
  {
   "cell_type": "markdown",
   "metadata": {},
   "source": [
    "**Algoritmo de ordenamiento por selección**"
   ]
  },
  {
   "cell_type": "code",
   "execution_count": 2,
   "metadata": {},
   "outputs": [],
   "source": [
    "from implementación_algoritmos import seleccion"
   ]
  },
  {
   "cell_type": "markdown",
   "metadata": {},
   "source": [
    "**Algoritmo de ordenamiento por burbuja**"
   ]
  },
  {
   "cell_type": "code",
   "execution_count": 3,
   "metadata": {},
   "outputs": [],
   "source": [
    "from implementación_algoritmos import burbuja"
   ]
  },
  {
   "cell_type": "markdown",
   "metadata": {},
   "source": [
    "**Algoritmo de ordenamiento por quicksort en el mejor caso**"
   ]
  },
  {
   "cell_type": "code",
   "execution_count": 37,
   "metadata": {},
   "outputs": [],
   "source": [
    "from implementación_algoritmos import quicksort_mejor"
   ]
  },
  {
   "cell_type": "markdown",
   "metadata": {},
   "source": [
    "**Algoritmo de ordenamiento por quicksort en el peor caso**"
   ]
  },
  {
   "cell_type": "code",
   "execution_count": 38,
   "metadata": {},
   "outputs": [],
   "source": [
    "from implementación_algoritmos import quicksort_peor"
   ]
  },
  {
   "cell_type": "markdown",
   "metadata": {},
   "source": [
    "**Algoritmo de ordenamiento por quicksort en el caso promedio**"
   ]
  },
  {
   "cell_type": "code",
   "execution_count": 8,
   "metadata": {},
   "outputs": [],
   "source": [
    "from implementación_algoritmos import quicksort_promedio"
   ]
  },
  {
   "cell_type": "markdown",
   "metadata": {},
   "source": [
    "**Algoritmo de ordenamiento por mergesort**"
   ]
  },
  {
   "cell_type": "code",
   "execution_count": 9,
   "metadata": {},
   "outputs": [],
   "source": [
    "from implementación_algoritmos import merge_sort"
   ]
  },
  {
   "cell_type": "markdown",
   "metadata": {},
   "source": [
    "**Código para los experimentos**"
   ]
  },
  {
   "cell_type": "code",
   "execution_count": 48,
   "metadata": {},
   "outputs": [],
   "source": [
    "from big_o import big_o\n",
    "from big_o import complexities as cls\n",
    "\n",
    "import random\n",
    "import numpy as np\n",
    "import pandas as pd"
   ]
  },
  {
   "cell_type": "code",
   "execution_count": 11,
   "metadata": {},
   "outputs": [],
   "source": [
    "from generador_listas import generar_mejor_caso"
   ]
  },
  {
   "cell_type": "code",
   "execution_count": 12,
   "metadata": {},
   "outputs": [],
   "source": [
    "from generador_listas import generar_peor_caso"
   ]
  },
  {
   "cell_type": "code",
   "execution_count": 13,
   "metadata": {},
   "outputs": [],
   "source": [
    "from generador_listas import generar_caso_promedio"
   ]
  },
  {
   "cell_type": "code",
   "execution_count": 14,
   "metadata": {},
   "outputs": [],
   "source": [
    "def aprox_asintotica(datos):\n",
    "    ys = datos['times']\n",
    "    for k, v in datos.items():\n",
    "        if isinstance(k, cls.ComplexityClass):\n",
    "            residual = v\n",
    "            r2 = 1 - residual / (ys.size * ys.var())\n",
    "            print(k, f' (r={residual}, r^2={r2})')"
   ]
  },
  {
   "cell_type": "code",
   "execution_count": 15,
   "metadata": {},
   "outputs": [],
   "source": [
    "%matplotlib inline\n",
    "import matplotlib.pyplot as plt\n",
    "\n",
    "def plot(etiqueta_xs, xs, etiqueta_ys, ys):\n",
    "    fig = plt.figure()\n",
    "    ax = fig.add_axes([0,0,1,1])\n",
    "    ax.bar(xs, ys)\n",
    "    plt.ylabel(etiqueta_ys)\n",
    "    plt.xlabel(etiqueta_xs)\n",
    "    plt.show()\n",
    "\n",
    "def plot_hist(etiqueta_xs, etiqueta_ys, ys):\n",
    "    fig, ax = plt.subplots()\n",
    "    ax.hist(ys, bins=10)\n",
    "    plt.xlabel(etiqueta_xs)\n",
    "    plt.ylabel(etiqueta_ys)\n",
    "    plt.show()"
   ]
  },
  {
   "cell_type": "markdown",
   "metadata": {},
   "source": [
    "## Resultados ##\n",
    "### Experimento 1.1"
   ]
  },
  {
   "cell_type": "markdown",
   "metadata": {},
   "source": [
    "**Mejor caso del método de ordenamiento por inserción**\n"
   ]
  },
  {
   "cell_type": "code",
   "execution_count": 16,
   "metadata": {},
   "outputs": [],
   "source": [
    "clase, datos = big_o(lambda A: insercion(A), \n",
    "                     generar_mejor_caso,\n",
    "                     min_n=10, max_n=1000,\n",
    "                     n_measures=990, n_repeats=3,\n",
    "                     verbose=False, return_raw_data=True,\n",
    "                     classes=[cls.Quadratic])"
   ]
  },
  {
   "cell_type": "code",
   "execution_count": 17,
   "metadata": {},
   "outputs": [
    {
     "data": {
      "image/png": "[encoded data removed]",
      "text/plain": [
       "<Figure size 432x288 with 1 Axes>"
      ]
     },
     "metadata": {
      "needs_background": "light"
     },
     "output_type": "display_data"
    }
   ],
   "source": [
    "prom_xs = datos['measures']\n",
    "prom_ys = datos['times']\n",
    "prom_aprox_ys = clase.compute(prom_xs)\n",
    "\n",
    "plt.plot(prom_xs, prom_ys)\n",
    "plt.plot(prom_xs, prom_aprox_ys, label = 'aprox')\n",
    "plt.ylabel('Tiempo (s)')\n",
    "plt.xlabel('n (tamaño del arreglo)')\n",
    "plt.show()"
   ]
  },
  {
   "cell_type": "code",
   "execution_count": 18,
   "metadata": {},
   "outputs": [
    {
     "name": "stdout",
     "output_type": "stream",
     "text": [
      "Quadratic: time = 7.6E-05 + 1.6E-07*n^2 (sec)  (r=0.004590808539533957, r^2=0.9980793691481695)\n"
     ]
    }
   ],
   "source": [
    "aprox_asintotica(datos)"
   ]
  },
  {
   "cell_type": "markdown",
   "metadata": {},
   "source": [
    "**Peor caso del método de ordenamiento por inserción**"
   ]
  },
  {
   "cell_type": "code",
   "execution_count": 19,
   "metadata": {},
   "outputs": [],
   "source": [
    "clase, datos = big_o(lambda A: insercion(A), \n",
    "                     generar_peor_caso,\n",
    "                     min_n=10, max_n=1000,\n",
    "                     n_measures=990, n_repeats=3,\n",
    "                     verbose=False, return_raw_data=True,\n",
    "                     classes=[cls.Quadratic])"
   ]
  },
  {
   "cell_type": "code",
   "execution_count": 20,
   "metadata": {},
   "outputs": [
    {
     "data": {
      "image/png": "[encoded data removed]",
      "text/plain": [
       "<Figure size 432x288 with 1 Axes>"
      ]
     },
     "metadata": {
      "needs_background": "light"
     },
     "output_type": "display_data"
    }
   ],
   "source": [
    "prom_xs = datos['measures']\n",
    "prom_ys = datos['times']\n",
    "prom_aprox_ys = clase.compute(prom_xs)\n",
    "\n",
    "plt.plot(prom_xs, prom_ys)\n",
    "plt.plot(prom_xs, prom_aprox_ys, label = 'aprox')\n",
    "plt.ylabel('Tiempo (s)')\n",
    "plt.xlabel('n (tamaño del arreglo)')\n",
    "plt.show()"
   ]
  },
  {
   "cell_type": "code",
   "execution_count": 21,
   "metadata": {},
   "outputs": [
    {
     "name": "stdout",
     "output_type": "stream",
     "text": [
      "Quadratic: time = -0.0011 + 2E-07*n^2 (sec)  (r=0.0033040276458116747, r^2=0.9991029825199339)\n"
     ]
    }
   ],
   "source": [
    "aprox_asintotica(datos)"
   ]
  },
  {
   "cell_type": "markdown",
   "metadata": {},
   "source": [
    "**Caso promedio del método de ordenamiento por inserción**"
   ]
  },
  {
   "cell_type": "code",
   "execution_count": 22,
   "metadata": {},
   "outputs": [],
   "source": [
    "clase, datos = big_o(lambda A: insercion(A), \n",
    "                     generar_caso_promedio,\n",
    "                     min_n=10, max_n=1000,\n",
    "                     n_measures=990, n_repeats=3,\n",
    "                     verbose=False, return_raw_data=True,\n",
    "                     classes=[cls.Quadratic])"
   ]
  },
  {
   "cell_type": "code",
   "execution_count": 23,
   "metadata": {},
   "outputs": [
    {
     "data": {
      "image/png": "[encoded data removed]",
      "text/plain": [
       "<Figure size 432x288 with 1 Axes>"
      ]
     },
     "metadata": {
      "needs_background": "light"
     },
     "output_type": "display_data"
    }
   ],
   "source": [
    "prom_xs = datos['measures']\n",
    "prom_ys = datos['times']\n",
    "prom_aprox_ys = clase.compute(prom_xs)\n",
    "\n",
    "plt.plot(prom_xs, prom_ys)\n",
    "plt.plot(prom_xs, prom_aprox_ys, label = 'aprox')\n",
    "plt.ylabel('Tiempo (s)')\n",
    "plt.xlabel('n (tamaño del arreglo)')\n",
    "plt.show()"
   ]
  },
  {
   "cell_type": "code",
   "execution_count": 24,
   "metadata": {},
   "outputs": [
    {
     "name": "stdout",
     "output_type": "stream",
     "text": [
      "Quadratic: time = -0.0009 + 1.8E-07*n^2 (sec)  (r=0.002935629449078768, r^2=0.9990327714789102)\n"
     ]
    }
   ],
   "source": [
    "aprox_asintotica(datos)"
   ]
  },
  {
   "cell_type": "markdown",
   "metadata": {},
   "source": [
    "### Experimento 1.2\n"
   ]
  },
  {
   "cell_type": "markdown",
   "metadata": {},
   "source": [
    "**Caso del método de ordenamiento por selección**"
   ]
  },
  {
   "cell_type": "code",
   "execution_count": 25,
   "metadata": {},
   "outputs": [],
   "source": [
    "clase, datos = big_o(lambda A: seleccion(A), \n",
    "                     generar_caso_promedio,\n",
    "                     min_n=10, max_n=1000,\n",
    "                     n_measures=990, n_repeats=3,\n",
    "                     verbose=False, return_raw_data=True,\n",
    "                     classes=[cls.Quadratic])"
   ]
  },
  {
   "cell_type": "code",
   "execution_count": 26,
   "metadata": {},
   "outputs": [
    {
     "data": {
      "image/png": "[encoded data removed]",
      "text/plain": [
       "<Figure size 432x288 with 1 Axes>"
      ]
     },
     "metadata": {
      "needs_background": "light"
     },
     "output_type": "display_data"
    }
   ],
   "source": [
    "prom_xs = datos['measures']\n",
    "prom_ys = datos['times']\n",
    "prom_aprox_ys = clase.compute(prom_xs)\n",
    "\n",
    "plt.plot(prom_xs, prom_ys)\n",
    "plt.plot(prom_xs, prom_aprox_ys, label = 'aprox')\n",
    "plt.ylabel('Tiempo (s)')\n",
    "plt.xlabel('n (tamaño del arreglo)')\n",
    "plt.show()"
   ]
  },
  {
   "cell_type": "code",
   "execution_count": 27,
   "metadata": {},
   "outputs": [
    {
     "name": "stdout",
     "output_type": "stream",
     "text": [
      "Quadratic: time = -0.00039 + 8.6E-08*n^2 (sec)  (r=0.008270933217788805, r^2=0.9876500384789053)\n"
     ]
    }
   ],
   "source": [
    "aprox_asintotica(datos)"
   ]
  },
  {
   "cell_type": "markdown",
   "metadata": {},
   "source": [
    "### Experimento 1.3\n"
   ]
  },
  {
   "cell_type": "markdown",
   "metadata": {},
   "source": [
    "**Caso del método de ordenamiento por burbuja**"
   ]
  },
  {
   "cell_type": "code",
   "execution_count": 28,
   "metadata": {},
   "outputs": [],
   "source": [
    "clase, datos = big_o(lambda A: burbuja(A), \n",
    "                     generar_caso_promedio,\n",
    "                     min_n=10, max_n=1000,\n",
    "                     n_measures=990, n_repeats=3,\n",
    "                     verbose=False, return_raw_data=True,\n",
    "                     classes=[cls.Quadratic])"
   ]
  },
  {
   "cell_type": "code",
   "execution_count": 29,
   "metadata": {},
   "outputs": [
    {
     "data": {
      "image/png": "[encoded data removed]",
      "text/plain": [
       "<Figure size 432x288 with 1 Axes>"
      ]
     },
     "metadata": {
      "needs_background": "light"
     },
     "output_type": "display_data"
    }
   ],
   "source": [
    "prom_xs = datos['measures']\n",
    "prom_ys = datos['times']\n",
    "prom_aprox_ys = clase.compute(prom_xs)\n",
    "\n",
    "plt.plot(prom_xs, prom_ys)\n",
    "plt.plot(prom_xs, prom_aprox_ys, label = 'aprox')\n",
    "plt.ylabel('Tiempo (s)')\n",
    "plt.xlabel('n (tamaño del arreglo)')\n",
    "plt.show()"
   ]
  },
  {
   "cell_type": "code",
   "execution_count": 30,
   "metadata": {},
   "outputs": [
    {
     "name": "stdout",
     "output_type": "stream",
     "text": [
      "Quadratic: time = -0.0023 + 2.4E-07*n^2 (sec)  (r=0.026965347065190343, r^2=0.9947352927387878)\n"
     ]
    }
   ],
   "source": [
    "aprox_asintotica(datos)"
   ]
  },
  {
   "cell_type": "markdown",
   "metadata": {},
   "source": [
    "### Experimento 1.4\n",
    "**Mejor caso del método de ordenamiento por quicksort**"
   ]
  },
  {
   "cell_type": "code",
   "execution_count": 39,
   "metadata": {},
   "outputs": [],
   "source": [
    "clase, datos = big_o(lambda A: quicksort_mejor(A), \n",
    "                     generar_mejor_caso,\n",
    "                     min_n=10, max_n=1000,\n",
    "                     n_measures=990, n_repeats=3,\n",
    "                     verbose=False, return_raw_data=True,\n",
    "                     classes=[cls.Linearithmic])"
   ]
  },
  {
   "cell_type": "code",
   "execution_count": 40,
   "metadata": {},
   "outputs": [
    {
     "data": {
      "image/png": "[encoded data removed]",
      "text/plain": [
       "<Figure size 432x288 with 1 Axes>"
      ]
     },
     "metadata": {
      "needs_background": "light"
     },
     "output_type": "display_data"
    }
   ],
   "source": [
    "prom_xs = datos['measures']\n",
    "prom_ys = datos['times']\n",
    "prom_aprox_ys = clase.compute(prom_xs)\n",
    "\n",
    "plt.plot(prom_xs, prom_ys)\n",
    "plt.plot(prom_xs, prom_aprox_ys, label = 'aprox')\n",
    "plt.ylabel('Tiempo (s)')\n",
    "plt.xlabel('n (tamaño del arreglo)')\n",
    "plt.show()"
   ]
  },
  {
   "cell_type": "code",
   "execution_count": 41,
   "metadata": {},
   "outputs": [
    {
     "name": "stdout",
     "output_type": "stream",
     "text": [
      "Linearithmic: time = 4.2E-05 + 4.3E-07*n*log(n) (sec)  (r=6.752963518215477e-06, r^2=0.9910711332887637)\n"
     ]
    }
   ],
   "source": [
    "aprox_asintotica(datos)"
   ]
  },
  {
   "cell_type": "markdown",
   "metadata": {},
   "source": [
    "**Peor caso del método de ordenamiento por quicksort**\n"
   ]
  },
  {
   "cell_type": "code",
   "execution_count": 42,
   "metadata": {},
   "outputs": [],
   "source": [
    "clase, datos = big_o(lambda A: quicksort_peor(A), \n",
    "                     generar_peor_caso,\n",
    "                     min_n=10, max_n=1000,\n",
    "                     n_measures=990, n_repeats=3,\n",
    "                     verbose=False, return_raw_data=True,\n",
    "                     classes=[cls.Quadratic])"
   ]
  },
  {
   "cell_type": "code",
   "execution_count": 43,
   "metadata": {},
   "outputs": [
    {
     "data": {
      "image/png": "[encoded data removed]",
      "text/plain": [
       "<Figure size 432x288 with 1 Axes>"
      ]
     },
     "metadata": {
      "needs_background": "light"
     },
     "output_type": "display_data"
    }
   ],
   "source": [
    "prom_xs = datos['measures']\n",
    "prom_ys = datos['times']\n",
    "prom_aprox_ys = clase.compute(prom_xs)\n",
    "\n",
    "plt.plot(prom_xs, prom_ys)\n",
    "plt.plot(prom_xs, prom_aprox_ys, label = 'aprox')\n",
    "plt.ylabel('Tiempo (s)')\n",
    "plt.xlabel('n (tamaño del arreglo)')\n",
    "plt.show()"
   ]
  },
  {
   "cell_type": "code",
   "execution_count": 44,
   "metadata": {},
   "outputs": [
    {
     "name": "stdout",
     "output_type": "stream",
     "text": [
      "Quadratic: time = 0.00075 + 1E-07*n^2 (sec)  (r=0.0017079297947896533, r^2=0.9980743608288397)\n"
     ]
    }
   ],
   "source": [
    "aprox_asintotica(datos)"
   ]
  },
  {
   "cell_type": "markdown",
   "metadata": {},
   "source": [
    "**Caso promedio del método de ordenamiento por quicksort**"
   ]
  },
  {
   "cell_type": "code",
   "execution_count": 103,
   "metadata": {},
   "outputs": [],
   "source": [
    "clase, datos = big_o(lambda A: quicksort_promedio(A), \n",
    "                     generar_caso_promedio,\n",
    "                     min_n=10, max_n=1000,\n",
    "                     n_measures=990, n_repeats=3,\n",
    "                     verbose=False, return_raw_data=True,\n",
    "                     classes=[cls.Linearithmic])"
   ]
  },
  {
   "cell_type": "code",
   "execution_count": 104,
   "metadata": {},
   "outputs": [
    {
     "data": {
      "image/png": "[encoded data removed]",
      "text/plain": [
       "<Figure size 432x288 with 1 Axes>"
      ]
     },
     "metadata": {
      "needs_background": "light"
     },
     "output_type": "display_data"
    }
   ],
   "source": [
    "prom_xs = datos['measures']\n",
    "prom_ys = datos['times']\n",
    "prom_aprox_ys = clase.compute(prom_xs)\n",
    "\n",
    "plt.plot(prom_xs, prom_ys)\n",
    "plt.plot(prom_xs, prom_aprox_ys, label = 'aprox')\n",
    "plt.ylabel('Tiempo (s)')\n",
    "plt.xlabel('n (tamaño del arreglo)')\n",
    "plt.show()"
   ]
  },
  {
   "cell_type": "code",
   "execution_count": 105,
   "metadata": {},
   "outputs": [
    {
     "name": "stdout",
     "output_type": "stream",
     "text": [
      "Linear: time = -0.00015 + 4.3E-06*n (sec)  (r=8.625274515699747e-05, r^2=0.9450214966415598)\n"
     ]
    }
   ],
   "source": [
    "aprox_asintotica(datos)"
   ]
  },
  {
   "cell_type": "markdown",
   "metadata": {},
   "source": [
    "### Experimento 1.5"
   ]
  },
  {
   "cell_type": "markdown",
   "metadata": {},
   "source": [
    "**Caso del método de ordenamiento por mergesort**"
   ]
  },
  {
   "cell_type": "code",
   "execution_count": null,
   "metadata": {},
   "outputs": [],
   "source": [
    "clase, datos = big_o(lambda A: merge_sort(A), \n",
    "                     generar_caso_promedio,\n",
    "                     min_n=10, max_n=1000,\n",
    "                     n_measures=990, n_repeats=3,\n",
    "                     verbose=False, return_raw_data=True,\n",
    "                     classes=[cls.Linearithmic])"
   ]
  },
  {
   "cell_type": "code",
   "execution_count": 46,
   "metadata": {},
   "outputs": [
    {
     "data": {
      "image/png": "[encoded data removed]",
      "text/plain": [
       "<Figure size 432x288 with 1 Axes>"
      ]
     },
     "metadata": {
      "needs_background": "light"
     },
     "output_type": "display_data"
    }
   ],
   "source": [
    "prom_xs = datos['measures']\n",
    "prom_ys = datos['times']\n",
    "prom_aprox_ys = clase.compute(prom_xs)\n",
    "\n",
    "plt.plot(prom_xs, prom_ys)\n",
    "plt.plot(prom_xs, prom_aprox_ys, label = 'aprox')\n",
    "plt.ylabel('Tiempo (s)')\n",
    "plt.xlabel('n (tamaño del arreglo)')\n",
    "plt.show()"
   ]
  },
  {
   "cell_type": "code",
   "execution_count": 47,
   "metadata": {},
   "outputs": [
    {
     "name": "stdout",
     "output_type": "stream",
     "text": [
      "Linearithmic: time = 0.00012 + 9.8E-07*n*log(n) (sec)  (r=6.396718816858932e-05, r^2=0.9840035815856035)\n"
     ]
    }
   ],
   "source": [
    "aprox_asintotica(datos)"
   ]
  },
  {
   "cell_type": "markdown",
   "metadata": {},
   "source": [
    "## Análisis de Resultados ##"
   ]
  },
  {
   "cell_type": "markdown",
   "metadata": {},
   "source": [
    "Con respecto la complejidad temporal del algoritmo de **inserción**, los resultados del experimento 1.1 proveen datos concluyentes con respecto al resultado teórico.\n",
    "\n",
    "El gráfico de la función de tiempo de ejecución del **mejor** caso del método de ordenamiento por inserción muestra una tendencia de crecimiento cuadratico, por lo que la aproximación de `big_o` produce un valor de $r^2 > 0.99807$, por lo tanto se puede afirmar con confiabilidad que la funcion de tiempo de ejecucion es cuadrática\n",
    "\n",
    "El gráfico y prueba de `big_o` para el **peor** caso del algoritmo de ordenamiento por inserción en el experimento 1.1 presenta evidencia confiable que confirma la complejidad temporal cuadrática $\\mathcal{O}(n)$ con un valor $r^2 > 0.9991$.\n",
    "\n",
    "El gráfico y prueba de `big_o` para el caso **promedio** del algoritmo de ordenamiento por inserción en el experimento 1.1 presenta evidencia confiable que confirma la complejidad temporal cuadrática $\\mathcal{O}(n)$ con un valor $r^2 > 0.9990$.\n",
    "\n",
    "Con respecto la complejidad temporal del algoritmo de **selección**, los resultados del experimento 1.2 proveen datos concluyentes con respecto al resultado teórico.\n",
    "\n",
    "El gráfico y prueba de `big_o` para el **caso** del algoritmo de ordenamiento por selección en el experimento 1.2 presenta evidencia confiable que confirma la complejidad temporal cuadrática $\\mathcal{O}(n)$ con un valor $r^2 > 0.9876$.\n",
    "\n",
    "Con respecto la complejidad temporal del algoritmo de **burbuja**, los resultados del experimento 1.3 proveen datos concluyentes con respecto al resultado teórico.\n",
    "\n",
    "El gráfico y prueba de `big_o` para el **caso** del algoritmo de ordenamiento por burbuja en el experimento 1.3 presenta evidencia confiable que confirma la complejidad temporal cuadrática $\\mathcal{O}(n)$ con un valor $r^2 > 0.9947$.\n",
    "\n",
    "Con respecto la complejidad temporal del algoritmo de **quicksort**, los resultados del experimento 1.4 proveen datos concluyentes con respecto al resultado teórico.\n",
    "\n",
    "También se observa que en el **caso promedio**, **mejor caso** y el **peor caso**, tienen diferencias bastante notables con respecto al timpo provocando así ruido en las gráficas. Esto se debe por la posición del pivote que se toma en cada caso.\n",
    "\n",
    "* El gráfico y prueba de `big_o` para el **mejor** caso del algoritmo de ordenamiento por quicksort en el experimento 1.4 presenta evidencia confiable que confirma la complejidad temporal **linearítmica** $\\mathcal{O}(n)$ con un valor $r^2 > 0.9910$.\n",
    "\n",
    "* El gráfico y prueba de `big_o` para el **peor** caso del algoritmo de ordenamiento por quicksort en el experimento 1.4 presenta evidencia confiable que confirma la complejidad temporal **cuadrática** $\\mathcal{O}(n)$ con un valor $r^2 > 0.9980$.\n",
    "\n",
    "* El gráfico y prueba de `big_o` para el caso **promedio** del algoritmo de ordenamiento por quicksort en el experimento 1.4 presenta evidencia confiable que confirma la complejidad temporal **linearítmica** $\\mathcal{O}(n)$ con un valor $r^2 > 0.9450$.\n",
    "\n",
    "Con respecto la complejidad temporal del algoritmo de **mergesort**, los resultados del experimento 1.5 proveen datos concluyentes con respecto al resultado teórico.\n",
    "\n",
    "El gráfico y prueba de `big_o` para el **caso** del algoritmo de ordenamiento por mergesort en el experimento 1.5 presenta evidencia confiable que confirma la complejidad temporal **linearítmica** $\\mathcal{O}(n)$ con un valor $r^2 > 0.9840$."
   ]
  },
  {
   "cell_type": "markdown",
   "metadata": {},
   "source": [
    "## Conclusión ##"
   ]
  },
  {
   "cell_type": "markdown",
   "metadata": {},
   "source": [
    "Con base al análisis de los resultados del experimento 1.1 se acepta la hipótesis ya que los datos teóricos dicen que el mejor caso, el peor caso y el caso promedio del método de ordenamiento por inserción tiene complejidad cuadrática y ese fue el resultado que se obtuvo en la parte experimental.\n",
    "\n",
    "Con base al análisis de los resultados del experimento 1.2 se acepta la hipótesis ya que los resultados que se dió para el caso del método de ordenamiento por selección se tuvo complejidad cuadrática el cual era lo que se esperaba con base a la teória.\n",
    "\n",
    "Con base al análisis de los resultados del experimento 1.3 se acepta la hipótesis ya que los resultados que se dió para el caso del método de ordenamiento por burbuja se tuvo la complejidad cuadrática el cual era lo que se esperaba con base a la teória.\n",
    "\n",
    "Con base al análisis de los resultados del experimento 1.4 se acepta la hipótesis ya que los resultados que se dieron para el mejor, peor y caso promedio por del método de ordenamiento por quicksort se dió los datos teóricos esperados.\n",
    "\n",
    "Con base al análisis de los resultados del experimento 1.5 se acepta la hipótesis ya que los resultados que se dió para el caso del método de ordenamiento por mergesort se tuvo la complejidad linearítmica el cual era lo que se esperaba con base a la teória."
   ]
  }
 ],
 "metadata": {
  "kernelspec": {
   "display_name": "Python 3",
   "language": "python",
   "name": "python3"
  },
  "language_info": {
   "codemirror_mode": {
    "name": "ipython",
    "version": 3
   },
   "file_extension": ".py",
   "mimetype": "text/x-python",
   "name": "python",
   "nbconvert_exporter": "python",
   "pygments_lexer": "ipython3",
   "version": "3.8.5"
  }
 },
 "nbformat": 4,
 "nbformat_minor": 4
}
