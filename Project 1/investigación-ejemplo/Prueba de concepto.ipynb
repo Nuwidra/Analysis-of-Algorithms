{
 "cells": [
  {
   "cell_type": "markdown",
   "metadata": {},
   "source": [
    "## Prueba de concepto ##\n",
    "\n",
    "¿Cuántos experimentos son necesarios para poder observar un comportamiento estimado probabilísticamente?\n"
   ]
  },
  {
   "cell_type": "markdown",
   "metadata": {},
   "source": [
    "Podemos simular un lanzamiento de moneda utilizando un generador pseudoaleatorio con distribución uniforme. Podemos esperar que el lanzamiento sea Escudo con 50% de probabilidad y Corona con 50% de probabilidad. ¿Cuántos lanzamientos de moneda serán necesarios para poder observar este comportamiento?"
   ]
  },
  {
   "cell_type": "code",
   "execution_count": 1,
   "metadata": {},
   "outputs": [],
   "source": [
    "import random\n",
    "\n",
    "random.seed(42)"
   ]
  },
  {
   "cell_type": "code",
   "execution_count": 2,
   "metadata": {},
   "outputs": [],
   "source": [
    "def lanzarMoneda():\n",
    "    return random.choice([True, False])"
   ]
  },
  {
   "cell_type": "code",
   "execution_count": 3,
   "metadata": {},
   "outputs": [],
   "source": [
    "def experimento(n):\n",
    "    frec_escudo = 0\n",
    "    frec_corona = 0\n",
    "    \n",
    "    for _ in range(n):\n",
    "        if lanzarMoneda():\n",
    "            frec_escudo += 1\n",
    "        else:\n",
    "            frec_corona += 1\n",
    "    \n",
    "    return frec_escudo, frec_corona"
   ]
  },
  {
   "cell_type": "markdown",
   "metadata": {},
   "source": [
    "**10 lanzamientos**"
   ]
  },
  {
   "cell_type": "code",
   "execution_count": 4,
   "metadata": {},
   "outputs": [
    {
     "name": "stdout",
     "output_type": "stream",
     "text": [
      "Escudo=8; Corona=2\n"
     ]
    }
   ],
   "source": [
    "frec_escudo, frec_corona = experimento(10)\n",
    "print(f'Escudo={frec_escudo}; Corona={frec_corona}')"
   ]
  },
  {
   "cell_type": "markdown",
   "metadata": {},
   "source": [
    "**100 lanzamientos**"
   ]
  },
  {
   "cell_type": "code",
   "execution_count": 5,
   "metadata": {},
   "outputs": [
    {
     "name": "stdout",
     "output_type": "stream",
     "text": [
      "Escudo=51; Corona=49\n"
     ]
    }
   ],
   "source": [
    "frec_escudo, frec_corona = experimento(100)\n",
    "print(f'Escudo={frec_escudo}; Corona={frec_corona}')"
   ]
  },
  {
   "cell_type": "markdown",
   "metadata": {},
   "source": [
    "**1000 lanzamientos**"
   ]
  },
  {
   "cell_type": "code",
   "execution_count": 6,
   "metadata": {},
   "outputs": [
    {
     "name": "stdout",
     "output_type": "stream",
     "text": [
      "Escudo=486; Corona=514\n"
     ]
    }
   ],
   "source": [
    "frec_escudo, frec_corona = experimento(1000)\n",
    "print(f'Escudo={frec_escudo}; Corona={frec_corona}')"
   ]
  },
  {
   "cell_type": "markdown",
   "metadata": {},
   "source": [
    "**10000 lanzamientos**"
   ]
  },
  {
   "cell_type": "code",
   "execution_count": 7,
   "metadata": {},
   "outputs": [
    {
     "name": "stdout",
     "output_type": "stream",
     "text": [
      "Escudo=4973; Corona=5027\n"
     ]
    }
   ],
   "source": [
    "frec_escudo, frec_corona = experimento(10000)\n",
    "print(f'Escudo={frec_escudo}; Corona={frec_corona}')"
   ]
  },
  {
   "cell_type": "markdown",
   "metadata": {},
   "source": [
    "**100000 lanzamientos**"
   ]
  },
  {
   "cell_type": "code",
   "execution_count": 8,
   "metadata": {},
   "outputs": [
    {
     "name": "stdout",
     "output_type": "stream",
     "text": [
      "Escudo=50077; Corona=49923\n"
     ]
    }
   ],
   "source": [
    "frec_escudo, frec_corona = experimento(100000)\n",
    "print(f'Escudo={frec_escudo}; Corona={frec_corona}')"
   ]
  },
  {
   "cell_type": "markdown",
   "metadata": {},
   "source": [
    "Ahora probamos lanzando un dado, la probabilidad esperada por cara es $\\frac{1}{6}$"
   ]
  },
  {
   "cell_type": "code",
   "execution_count": 9,
   "metadata": {},
   "outputs": [
    {
     "data": {
      "text/plain": [
       "0.16666666666666666"
      ]
     },
     "execution_count": 9,
     "metadata": {},
     "output_type": "execute_result"
    }
   ],
   "source": [
    "1/6"
   ]
  },
  {
   "cell_type": "code",
   "execution_count": 10,
   "metadata": {},
   "outputs": [],
   "source": [
    "def dado(n):\n",
    "    frec = [0] * 6\n",
    "    for _ in range(n):\n",
    "        cara = random.randrange(6)\n",
    "        frec[cara] += 1\n",
    "    \n",
    "    print(f'1={frec[0]/n}; 2={frec[1]/n}; 3={frec[2]/n}; 4={frec[3]/n}; 5={frec[4]/n}; 6={frec[5]/n}')"
   ]
  },
  {
   "cell_type": "markdown",
   "metadata": {},
   "source": [
    "**10 lanzamientos**"
   ]
  },
  {
   "cell_type": "code",
   "execution_count": 11,
   "metadata": {},
   "outputs": [
    {
     "name": "stdout",
     "output_type": "stream",
     "text": [
      "1=0.1; 2=0.2; 3=0.2; 4=0.1; 5=0.2; 6=0.2\n"
     ]
    }
   ],
   "source": [
    "dado(10)"
   ]
  },
  {
   "cell_type": "markdown",
   "metadata": {},
   "source": [
    "**100 lanzamientos**"
   ]
  },
  {
   "cell_type": "code",
   "execution_count": 12,
   "metadata": {},
   "outputs": [
    {
     "name": "stdout",
     "output_type": "stream",
     "text": [
      "1=0.18; 2=0.11; 3=0.15; 4=0.15; 5=0.2; 6=0.21\n"
     ]
    }
   ],
   "source": [
    "dado(100)"
   ]
  },
  {
   "cell_type": "markdown",
   "metadata": {},
   "source": [
    "**1000 lanzamientos**"
   ]
  },
  {
   "cell_type": "code",
   "execution_count": 13,
   "metadata": {},
   "outputs": [
    {
     "name": "stdout",
     "output_type": "stream",
     "text": [
      "1=0.156; 2=0.178; 3=0.17; 4=0.162; 5=0.166; 6=0.168\n"
     ]
    }
   ],
   "source": [
    "dado(1000)"
   ]
  },
  {
   "cell_type": "markdown",
   "metadata": {},
   "source": [
    "**10000 lanzamientos**"
   ]
  },
  {
   "cell_type": "code",
   "execution_count": 14,
   "metadata": {},
   "outputs": [
    {
     "name": "stdout",
     "output_type": "stream",
     "text": [
      "1=0.1666; 2=0.1726; 3=0.1689; 4=0.1621; 5=0.1625; 6=0.1673\n"
     ]
    }
   ],
   "source": [
    "dado(10000)"
   ]
  },
  {
   "cell_type": "markdown",
   "metadata": {},
   "source": [
    "**100000 lanzamientos**"
   ]
  },
  {
   "cell_type": "code",
   "execution_count": 15,
   "metadata": {},
   "outputs": [
    {
     "name": "stdout",
     "output_type": "stream",
     "text": [
      "1=0.16675; 2=0.16673; 3=0.167; 4=0.16604; 5=0.16741; 6=0.16607\n"
     ]
    }
   ],
   "source": [
    "dado(100000)"
   ]
  }
 ],
 "metadata": {
  "kernelspec": {
   "display_name": "Python 3",
   "language": "python",
   "name": "python3"
  },
  "language_info": {
   "codemirror_mode": {
    "name": "ipython",
    "version": 3
   },
   "file_extension": ".py",
   "mimetype": "text/x-python",
   "name": "python",
   "nbconvert_exporter": "python",
   "pygments_lexer": "ipython3",
   "version": "3.8.5"
  }
 },
 "nbformat": 4,
 "nbformat_minor": 4
}
