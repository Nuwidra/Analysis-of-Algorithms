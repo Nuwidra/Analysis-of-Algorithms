{
 "cells": [
  {
   "cell_type": "markdown",
   "metadata": {},
   "source": [
    "## Plan de investigación \n",
    "\n",
    "### Problema\n",
    "¿Cómo se compara el algoritmo divide y conquista más eficiente temporalmente con el algoritmo de ordenamiento por intercambio de adyacentes más eficiente temporalmente? ¿En qué casos es posible recomendar el uso de una categoría de algoritmos de ordenamiento sobre la otra?\n",
    "\n",
    "### Hipótesis\n",
    "* Se conoce que en el caso promedio del algoritmo quicksort tiene un comportamiento de O(nlog(n)), mientras el algoritmo de inserción en su caso promedio mantiene un comportamiento $n^2$, con ello quicksort se puede ir viendo una opción que puede reducir en gran medida la complejidad del tiempo y por consiguiente el más apto en funciones con listas muy grandes. Sin embargo al tratar algoritmos con listas de un tamaño pequeño se recomienda a mayor manera el algoritmo de inserción ya que este suele ser más eficaz debido a su comportamiento exponencial, mientras quicksort tiene un comportamiento logarítmico y eso provoca un pico en tiempo en cuanto a listas pequeñas. A la hora de recomendar el uso de una categoría se puede analizar la complejidad del problema y estudiar el largo de las listas para descubrir cual es el algoritmo más apto.\n",
    "\n",
    "### Metodologia \n",
    "* Se van a estudiar los rendimientos de ambos algoritmos mediante un set de experimentos.\n",
    "\n",
    "####  1- Implementación de listas para casos   \n",
    "     \n",
    "   En este caso vamos a presentar un conjunto de listas en las que se va a demostrar cada uno de los casos (mejor, peor y promedio) de ambos algoritmos con el que vamos a medir sus posibilidades de éxito y sus fallas en el proceso. \n",
    "   \n",
    "   Para ambas listas se pueden utilizar la mismas listas de mejor, peor y caso promedio\n",
    "  \n",
    "  - Mejor caso: Para el mejor caso las listas van a ser ordenadas ascendentemente \n",
    "      \n",
    "      mejor_caso(n): [1,2,3,4,5,6]\n",
    "  \n",
    "  \n",
    "  - Peor caso: Para el peor caso las listas van a ser ordenadas descendentemente\n",
    "  \n",
    "      peor_caso(n): [5,4,3,2,1]\n",
    "      \n",
    "  \n",
    "  - Caso promedio: Para el caso promedio las listas no se ordenan de manera aleatoria con ayuda de la herramienta shuffle.\n",
    "  \n",
    "      caso_promedio(n): [1,3,5,2,4]\n",
    "    \n",
    "      \n",
    "                   \n",
    "De acuerdo con el resultado teórico, se espera un valor de  $r^2$  cercano a 1.\n",
    "\n",
    "Adicionalmente se graficarán los resultados de tiempo de ejecución y la función de complejidad aproximada por big_o.\n"
   ]
  },
  {
   "cell_type": "markdown",
   "metadata": {},
   "source": [
    "#### 2- Verificacion de complejidad temporal.\n",
    "  Para medir la complejidad temporal de ambos algoritmos se va a utilizar la biblioteca `Big O`con los siguientes parámetros: \n",
    "\n",
    "Parámetros para la función Big O en QuickSort:\n",
    "* `min_n` = 10\n",
    "* `max_n` = 1000\n",
    "* `n_measures` = 990\n",
    "* `n_repeats` = 3\n",
    "* `classes` = `[cls.Linearithmic]`\n",
    "* `Lista` \n",
    "\n",
    "Parámetros para la función Big O en Inserción:\n",
    "* `min_n` = 10\n",
    "* `max_n` = 1000\n",
    "* `n_measures` = 990\n",
    "* `n_repeats` = 3\n",
    "* `classes` = `[cls.Quadratic]`\n",
    "* `Lista` \n"
   ]
  },
  {
   "cell_type": "markdown",
   "metadata": {},
   "source": [
    "#### 3- Efectividad de cada uno\n",
    "\n",
    " Se van a graficar los rendimientos de los algoritmos con ayuda de la biblioteca `matplotlib.pyplot` y con ello se van a poder comparar los tiempos conforme el tamaño de la entrada crece."
   ]
  },
  {
   "cell_type": "code",
   "execution_count": 13,
   "metadata": {},
   "outputs": [],
   "source": [
    "from big_o import big_o\n",
    "from big_o import complexities as cls\n",
    "\n",
    "import generador_listas as gl\n",
    "import implementación_algoritmos \n",
    "\n",
    "import random\n",
    "import numpy as np\n",
    "import pandas as pd"
   ]
  },
  {
   "cell_type": "markdown",
   "metadata": {},
   "source": [
    "### Codigo de pruebas"
   ]
  },
  {
   "cell_type": "code",
   "execution_count": 14,
   "metadata": {},
   "outputs": [],
   "source": [
    "def aprox_asintotica(datos):\n",
    "    ys = datos['times']\n",
    "    for k, v in datos.items():\n",
    "        if isinstance(k, cls.ComplexityClass):\n",
    "            residual = v\n",
    "            r2 = 1 - residual / (ys.size * ys.var())\n",
    "            print(k, f' (r={residual}, r^2={r2})')"
   ]
  },
  {
   "cell_type": "code",
   "execution_count": 15,
   "metadata": {},
   "outputs": [],
   "source": [
    "%matplotlib inline\n",
    "import matplotlib.pyplot as plt\n",
    "\n",
    "def plot(etiqueta_xs, xs, etiqueta_ys, ys):\n",
    "    fig = plt.figure()\n",
    "    ax = fig.add_axes([0,0,1,1])\n",
    "    ax.bar(xs, ys)\n",
    "    plt.ylabel(etiqueta_ys)\n",
    "    plt.xlabel(etiqueta_xs)\n",
    "    plt.show()\n",
    "\n",
    "def plot_hist(etiqueta_xs, etiqueta_ys, ys):\n",
    "    fig, ax = plt.subplots()\n",
    "    ax.hist(ys, bins=10)\n",
    "    plt.xlabel(etiqueta_xs)\n",
    "    plt.ylabel(etiqueta_ys)\n",
    "    plt.show()"
   ]
  },
  {
   "cell_type": "markdown",
   "metadata": {},
   "source": [
    "### Algoritmos "
   ]
  },
  {
   "cell_type": "markdown",
   "metadata": {},
   "source": [
    "#### Algoritmo de ordenamiento por inserción "
   ]
  },
  {
   "cell_type": "code",
   "execution_count": 16,
   "metadata": {},
   "outputs": [],
   "source": [
    "from implementación_algoritmos import insercion"
   ]
  },
  {
   "cell_type": "markdown",
   "metadata": {},
   "source": [
    "#### Algoritmo de ordenamiento quicksort"
   ]
  },
  {
   "cell_type": "code",
   "execution_count": 17,
   "metadata": {},
   "outputs": [],
   "source": [
    "from implementación_algoritmos import quicksort_promedio"
   ]
  },
  {
   "cell_type": "markdown",
   "metadata": {},
   "source": [
    "### Resultados "
   ]
  },
  {
   "cell_type": "code",
   "execution_count": 18,
   "metadata": {},
   "outputs": [],
   "source": [
    "clase, datos = big_o(lambda A: insercion(A), \n",
    "                     gl.generar_caso_promedio,\n",
    "                     min_n=10, max_n=1000,\n",
    "                     n_measures=990, n_repeats=3,\n",
    "                     verbose=False, return_raw_data=True,\n",
    "                     classes=[cls.Quadratic])"
   ]
  },
  {
   "cell_type": "code",
   "execution_count": 19,
   "metadata": {},
   "outputs": [
    {
     "data": {
      "image/png": "[encoded data removed]",
      "text/plain": [
       "<Figure size 432x288 with 1 Axes>"
      ]
     },
     "metadata": {
      "needs_background": "light"
     },
     "output_type": "display_data"
    }
   ],
   "source": [
    "prom_xs = datos['measures']\n",
    "prom_ys = datos['times']\n",
    "prom_aprox_insercion = clase.compute(prom_xs)\n",
    "\n",
    "plt.plot(prom_xs, prom_ys)\n",
    "plt.plot(prom_xs, prom_aprox_insercion, label = 'aprox')\n",
    "plt.ylabel('Tiempo (s)')\n",
    "plt.xlabel('n (tamaño del arreglo)')\n",
    "plt.show()"
   ]
  },
  {
   "cell_type": "code",
   "execution_count": 20,
   "metadata": {},
   "outputs": [
    {
     "name": "stdout",
     "output_type": "stream",
     "text": [
      "Quadratic: time = -0.00035 + 3E-08*n^2 (sec)  (r=0.002305932799635873, r^2=0.9721301576256489)\n"
     ]
    }
   ],
   "source": [
    "aprox_asintotica(datos)"
   ]
  },
  {
   "cell_type": "code",
   "execution_count": 21,
   "metadata": {},
   "outputs": [],
   "source": [
    "clase, datos = big_o(lambda A: quicksort_promedio(A), \n",
    "                     gl.generar_caso_promedio,\n",
    "                     min_n=10, max_n=1000,\n",
    "                     n_measures=990, n_repeats=3,\n",
    "                     verbose=False, return_raw_data=True,\n",
    "                     classes=[cls.Linearithmic])"
   ]
  },
  {
   "cell_type": "code",
   "execution_count": 22,
   "metadata": {
    "scrolled": true
   },
   "outputs": [
    {
     "data": {
      "image/png": "[encoded data removed]",
      "text/plain": [
       "<Figure size 432x288 with 1 Axes>"
      ]
     },
     "metadata": {
      "needs_background": "light"
     },
     "output_type": "display_data"
    }
   ],
   "source": [
    "prom_xs = datos['measures']\n",
    "prom_ys = datos['times']\n",
    "prom_aprox_quicksort = clase.compute(prom_xs)\n",
    "\n",
    "plt.plot(prom_xs, prom_ys)\n",
    "plt.plot(prom_xs, prom_aprox_quicksort, label = 'aprox')\n",
    "plt.ylabel('Tiempo (s)')\n",
    "plt.xlabel('n (tamaño del arreglo)')\n",
    "plt.show()"
   ]
  },
  {
   "cell_type": "code",
   "execution_count": 23,
   "metadata": {},
   "outputs": [
    {
     "name": "stdout",
     "output_type": "stream",
     "text": [
      "Linearithmic: time = 0.00016 + 9.9E-07*n*log(n) (sec)  (r=0.00037524817685586037, r^2=0.9139896659578697)\n"
     ]
    }
   ],
   "source": [
    "aprox_asintotica(datos)"
   ]
  },
  {
   "cell_type": "markdown",
   "metadata": {},
   "source": [
    "  9. Se recomienda el algoritmo más eficiente\n",
    "  "
   ]
  },
  {
   "cell_type": "code",
   "execution_count": 24,
   "metadata": {},
   "outputs": [
    {
     "data": {
      "image/png": "[encoded data removed]",
      "text/plain": [
       "<Figure size 432x288 with 1 Axes>"
      ]
     },
     "metadata": {
      "needs_background": "light"
     },
     "output_type": "display_data"
    }
   ],
   "source": [
    "plt.plot(prom_xs, prom_aprox_quicksort, label = 'quicksort')\n",
    "plt.plot(prom_xs, prom_aprox_insercion, label = 'insercion')\n",
    "plt.ylabel('Tiempo (s)')\n",
    "plt.xlabel('n (tamaño del arreglo)')\n",
    "plt.legend(loc = 2)\n",
    "plt.show()"
   ]
  },
  {
   "cell_type": "markdown",
   "metadata": {},
   "source": [
    "### Análisis de resultados\n",
    "\n",
    "- En el experimento 1 se visualiza lo que es el comportamiento del algoritmo de inserción, se puede ver que tiene un comportamiento exponencial, tiene un rendimiento positivo al inicio, sin embargo cuando aumenta el tamaño de la entrada su curva temporal empieza a aumentar considerablemente.\n",
    "\n",
    "\n",
    "- En el experimento 2 se visualiza lo que es el comportamiento del algoritmo de quicksort, se puede ver que tiene un comportamiento linearítmico, tiene un rendimiento muy similar independientemente de la cantidad de aumentos que haya en su entrada, tiene una curva muy constante.\n",
    "\n",
    "\n",
    "- En el experimento 3 se hace una comparación entre los resultados de ambos grafico en los cuales se puede apreciar como inicialmente es más eficiente el algoritmo de inserción, sin embargo conforme crece el tamaño de la entrada el algoritmo de quicksort tiene una mayor eficiencia.\n"
   ]
  },
  {
   "cell_type": "markdown",
   "metadata": {},
   "source": [
    "### Conclusión \n",
    "Debido a los experimentos y pruebas realizadas anteriormente, podemos concluir que la hipótesis planteada inicialmente es correcta, ya que al realizar la comparación mediante una grafica, podemos observar como el algoritmo de inserción es más eficiente con listas de menor tamaño y conforme aumenta la entrada, el algoritmo tiene una curva temporal más pronunciada a diferencia de quicksort que se mantiene un crecimiento lento aún cuando el tamaño de la lista aumenta.\n"
   ]
  }
 ],
 "metadata": {
  "kernelspec": {
   "display_name": "Python 3",
   "language": "python",
   "name": "python3"
  },
  "language_info": {
   "codemirror_mode": {
    "name": "ipython",
    "version": 3
   },
   "file_extension": ".py",
   "mimetype": "text/x-python",
   "name": "python",
   "nbconvert_exporter": "python",
   "pygments_lexer": "ipython3",
   "version": "3.6.9"
  }
 },
 "nbformat": 4,
 "nbformat_minor": 2
}
