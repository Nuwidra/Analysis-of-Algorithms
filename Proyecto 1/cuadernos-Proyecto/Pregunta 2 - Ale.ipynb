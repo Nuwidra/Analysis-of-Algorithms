{
 "cells": [
  {
   "cell_type": "markdown",
   "metadata": {},
   "source": [
    "# Plan de Investigación"
   ]
  },
  {
   "cell_type": "markdown",
   "metadata": {},
   "source": [
    "## Problema\n",
    "\n",
    "En los diferentes algoritmos de ordenamiento por intercambios adyacentes a estudiar (selección, inserción, burbuja original y burbuja optimizado) se conoce que su complejidad temporal en el peor caso y en el caso promedio es de $\\mathcal{O}(n^2)$, por lo que cabe plantearse diferentes preguntas.\n",
    "¿Cómo se comparan en cuanto a rendimiento temporal? \n",
    "¿Hay alguno más eficiente? \n",
    "Si es el caso, ¿cómo se justifica esta diferencia en eficiencia?"
   ]
  },
  {
   "cell_type": "markdown",
   "metadata": {},
   "source": [
    "## Hipótesis \n",
    "\n",
    "Se conoce que la complejidad temporal de los algoritmos antes mencionados en el peor y el caso promedio es de $\\mathcal{O}(n^2)$, esto significa que su comportamiento para todos los algoritmos en estos casos se va a comportar de manera cuadrática pero no necesariamente van a tener el mismo rendimiento, haciendo un breve análisis por los algoritmos, los algoritmos de selección y burbuja tienen un único caso, por lo que su complejidad temporal siempre va a ser $\\mathcal{O}(n^2)$. Mientras que los algoritmos de burbuja optimizada e inserción si tienen casos, analizando la complejidad de ambos algorimos podemos esperar que el algoritmo con menor tiempo con referencia al tamaño de la entrada es el de inserción."
   ]
  },
  {
   "cell_type": "markdown",
   "metadata": {},
   "source": [
    "## Metodología\n",
    "\n",
    "Considerando que dos de los algoritmos a comparar si tienen casos entonces todas las pruebas se van a ejecutar con una lista aleatoria, las cuales simulan el caso promedio para ambos algoritmos.\n",
    "\n",
    "### 1. Creación de Listas (Caso Promedio)\n",
    "\n",
    "Inicialmente, se va a implementar una función que cree una lista de tamaño $n$, las cuales nos permitirá simular el caso promedio para cada algoritmo, con excepción de los algoritmos que no poseen casos.\n",
    "\n",
    "1. promedio_lista( n ): Retorna una lista de $n$ elementos distribuidos aleatoriamente con ayuda de la herramienta shuffle de la biblioteca random.\n",
    "\n",
    "Ejemplo:\n",
    "`lista = [3,4,1,5,2]`\n",
    "\n",
    "\n",
    "### 2. Cálculo de complejidad temporal\n",
    "\n",
    "Se comprobará mediante varios experimentos la complejidad temporal de los diferentes algoritmos de ordenamiento por intercambio de adyacentes, para ello vamos a seguir diferentes pasos:\n",
    "\n",
    "1. Implementar los diferentes algoritmos de ordenamiento previamente mencionados.\n",
    "2. Tales algoritmos recibiran una lista numérica de tamaño $n$.\n",
    "3. En el caso de que los algoritmos tengan casos, se les va a ingresar como parámetro una lista, simulando el caso promedio.\n",
    "\n",
    "*Nota: De acuerdo con el resultado teórico, se va a utilizar la función `aprox_asintotica` para tener una referencia de su complejidad temporal, se espera un valor de $r^2$ cercano a 1.*\n",
    "\n",
    "Se van a utilizar los resultados de los experimentos ejecutados con la biblioteca `big_o` para representar de una manera más visual la complejidad temporal de cada algoritmo. Los parámetros que se le van a introducir a la función para cada algoritmo son:\n",
    "\n",
    "#### 2.1 Selección\n",
    "\n",
    "**Único Caso**\n",
    "* `min_n` = 10\n",
    "* `max_n` = 1000\n",
    "* `n_measures` = 990\n",
    "* `n_repeats` = 3\n",
    "* `classes` = `[cls.Quadratic]`\n",
    "* Lista numérica de orden aleatorio de números enteros\n",
    "\n",
    "\n",
    "#### 2.2 Inserción\n",
    "\n",
    "**Para el caso promedio**\n",
    "* `min_n` = 10\n",
    "* `max_n` = 1000\n",
    "* `n_measures` = 990\n",
    "* `n_repeats` = 3\n",
    "* `classes` = `[cls.Quadratic]`\n",
    "* Lista numérica de orden aleatorio de números enteros\n",
    "\n",
    "#### 2.3 Burbuja original\n",
    "\n",
    "**Único Caso**\n",
    "* `min_n` = 10\n",
    "* `max_n` = 1000\n",
    "* `n_measures` = 990\n",
    "* `n_repeats` = 3\n",
    "* `classes` = `[cls.Quadratic]`\n",
    "* Lista numérica de orden aleatorio de números enteros\n",
    "\n",
    "\n",
    "#### 2.4 Burbuja optimizado\n",
    "\n",
    "**Para el caso promedio**\n",
    "* `min_n` = 10\n",
    "* `max_n` = 1000\n",
    "* `n_measures` = 990\n",
    "* `n_repeats` = 3\n",
    "* `classes` = `[cls.Quadratic]`\n",
    "* Lista numérica de orden aleatorio de números enteros\n",
    "\n",
    "### 3. Comparación de Resultados\n",
    "\n",
    "Se va a hacer una comparación con base a los resultados obtenidos con la biblioteca `big_o`. Inicialmente, se van a comparar los algoritmos con un único caso (burbuja, selección). Posteriormente, se realizará una comparación entre los algoritmos que si tienen casos (burbuja optimizada, inserción). Finalmente, se van a tomar los mejores algoritmos de cada comparación y se va a realizar una ultima comparación para sacar de manera certera cual es el algoritmo más eficiente de todos.\n",
    "\n",
    "Para la comparación de los datos extraídos de los experimentos ya realizados se van a comparar mediante 2 diferentes representaciones:\n",
    "\n",
    "#### 3.1 Graficos\n",
    "Se va a hacer uso de la biblioteca `matplotlib.pyplot` para graficar de manera visual los resultados extraídos en los experimentos.\n",
    "\n",
    "#### 3.2 Tablas\n",
    "Se va a implementar una tabla con la cual podemos comparar los tiempos de ejecución teniendo en cuenta el tamaño de la entrada, en este caso una lista de tamaño $n$, con la cual vamos a poder comparar de una mejor manera cual algoritmo tiene el mejor rendimiento.\n",
    "\n",
    "### Experimentos\n",
    "\n",
    "### Código de Creación de Listas\n"
   ]
  },
  {
   "cell_type": "code",
   "execution_count": 7,
   "metadata": {},
   "outputs": [],
   "source": [
    "from big_o import big_o\n",
    "from big_o import complexities as cls\n",
    "\n",
    "from generador_listas import generar_caso_promedio\n",
    "import implementación_algoritmos as alg\n",
    "\n",
    "import random\n",
    "import numpy as np\n",
    "import pandas as pd"
   ]
  },
  {
   "cell_type": "markdown",
   "metadata": {},
   "source": [
    "### Código de Pruebas"
   ]
  },
  {
   "cell_type": "code",
   "execution_count": 8,
   "metadata": {},
   "outputs": [],
   "source": [
    "def aprox_asintotica(datos):\n",
    "    ys = datos['times']\n",
    "    for k, v in datos.items():\n",
    "        if isinstance(k, cls.ComplexityClass):\n",
    "            residual = v\n",
    "            r2 = 1 - residual / (ys.size * ys.var())\n",
    "            print(k, f' (r={residual}, r^2={r2})')"
   ]
  },
  {
   "cell_type": "code",
   "execution_count": 9,
   "metadata": {},
   "outputs": [],
   "source": [
    "%matplotlib inline\n",
    "import matplotlib.pyplot as plt\n",
    "\n",
    "def plot(etiqueta_xs, xs, etiqueta_ys, ys):\n",
    "    fig = plt.figure()\n",
    "    ax = fig.add_axes([0,0,1,1])\n",
    "    ax.bar(xs, ys)\n",
    "    plt.ylabel(etiqueta_ys)\n",
    "    plt.xlabel(etiqueta_xs)\n",
    "    plt.show()\n",
    "\n",
    "def plot_hist(etiqueta_xs, etiqueta_ys, ys):\n",
    "    fig, ax = plt.subplots()\n",
    "    ax.hist(ys, bins=10)\n",
    "    plt.xlabel(etiqueta_xs)\n",
    "    plt.ylabel(etiqueta_ys)\n",
    "    plt.show()"
   ]
  },
  {
   "cell_type": "markdown",
   "metadata": {},
   "source": [
    "### Algoritmos"
   ]
  },
  {
   "cell_type": "markdown",
   "metadata": {},
   "source": [
    "**Algoritmo de ordenamiento por selección**"
   ]
  },
  {
   "cell_type": "code",
   "execution_count": 10,
   "metadata": {},
   "outputs": [],
   "source": [
    "from implementación_algoritmos import seleccion"
   ]
  },
  {
   "cell_type": "markdown",
   "metadata": {},
   "source": [
    "**Algoritmo de ordenamiento por inserción**"
   ]
  },
  {
   "cell_type": "code",
   "execution_count": 11,
   "metadata": {},
   "outputs": [],
   "source": [
    "from implementación_algoritmos import insercion"
   ]
  },
  {
   "cell_type": "markdown",
   "metadata": {},
   "source": [
    "**Algoritmos de ordenamiento burbuja**"
   ]
  },
  {
   "cell_type": "code",
   "execution_count": 12,
   "metadata": {},
   "outputs": [],
   "source": [
    "from implementación_algoritmos import burbuja"
   ]
  },
  {
   "cell_type": "markdown",
   "metadata": {},
   "source": [
    "**Algoritmos de ordenamiento burbuja optimizada**"
   ]
  },
  {
   "cell_type": "code",
   "execution_count": 13,
   "metadata": {},
   "outputs": [],
   "source": [
    "from implementación_algoritmos import burbuja_optimizado"
   ]
  },
  {
   "cell_type": "markdown",
   "metadata": {},
   "source": [
    "## Resultados\n",
    "\n",
    "### Selección - Único Caso"
   ]
  },
  {
   "cell_type": "code",
   "execution_count": 14,
   "metadata": {},
   "outputs": [],
   "source": [
    "clase_prom, datos_prom = big_o(lambda A: seleccion(A), \n",
    "                     generar_caso_promedio,\n",
    "                     min_n=10, max_n=1000,\n",
    "                     n_measures=990, n_repeats=3,\n",
    "                     verbose=False, return_raw_data=True,\n",
    "                     classes=[cls.Quadratic])"
   ]
  },
  {
   "cell_type": "code",
   "execution_count": 15,
   "metadata": {},
   "outputs": [
    {
     "data": {
      "image/png": "[encoded data removed]",
      "text/plain": [
       "<Figure size 432x288 with 1 Axes>"
      ]
     },
     "metadata": {
      "needs_background": "light"
     },
     "output_type": "display_data"
    }
   ],
   "source": [
    "prom_xs = datos_prom['measures']\n",
    "prom_ys = datos_prom['times']\n",
    "selec_prom_aprox = clase_prom.compute(prom_xs)\n",
    "\n",
    "plt.plot(prom_xs, prom_ys, label = 'Selección: Lista Aleatoria')\n",
    "plt.plot(prom_xs, selec_prom_aprox, label = 'Aprox Aleatorio')\n",
    "plt.ylabel('Tiempo (s)')\n",
    "plt.xlabel('n (tamaño del arreglo)')\n",
    "plt.legend(loc = 2)\n",
    "plt.show()"
   ]
  },
  {
   "cell_type": "code",
   "execution_count": 16,
   "metadata": {},
   "outputs": [
    {
     "name": "stdout",
     "output_type": "stream",
     "text": [
      "Quadratic: time = -6.8E-05 + 1.3E-07*n^2 (sec)  (r=0.002269473927695009, r^2=0.9984201359711106)\n"
     ]
    }
   ],
   "source": [
    "aprox_asintotica(datos_prom)"
   ]
  },
  {
   "cell_type": "markdown",
   "metadata": {},
   "source": [
    "### Inserción - Caso Promedio"
   ]
  },
  {
   "cell_type": "code",
   "execution_count": 17,
   "metadata": {},
   "outputs": [],
   "source": [
    "clase_prom, datos_prom = big_o(lambda A: insercion(A), \n",
    "                     generar_caso_promedio,\n",
    "                     min_n=10, max_n=1000,\n",
    "                     n_measures=990, n_repeats=3,\n",
    "                     verbose=False, return_raw_data=True,\n",
    "                     classes=[cls.Quadratic])"
   ]
  },
  {
   "cell_type": "code",
   "execution_count": 18,
   "metadata": {},
   "outputs": [
    {
     "data": {
      "image/png": "[encoded data removed]",
      "text/plain": [
       "<Figure size 432x288 with 1 Axes>"
      ]
     },
     "metadata": {
      "needs_background": "light"
     },
     "output_type": "display_data"
    }
   ],
   "source": [
    "prom_xs = datos_prom['measures']\n",
    "prom_ys = datos_prom['times']\n",
    "inser_prom_aprox = clase_prom.compute(prom_xs)\n",
    "\n",
    "plt.plot(prom_xs, prom_ys, label = 'Inserción: Caso Promedio')\n",
    "plt.plot(prom_xs, inser_prom_aprox, label = 'Aprox Promedio')\n",
    "plt.ylabel('Tiempo (s)')\n",
    "plt.xlabel('n (tamaño del arreglo)')\n",
    "plt.legend(loc = 2)\n",
    "plt.show()"
   ]
  },
  {
   "cell_type": "code",
   "execution_count": 19,
   "metadata": {},
   "outputs": [
    {
     "name": "stdout",
     "output_type": "stream",
     "text": [
      "Quadratic: time = -0.00045 + 4.8E-08*n^2 (sec)  (r=0.0005768420479574398, r^2=0.997100792572406)\n"
     ]
    }
   ],
   "source": [
    "aprox_asintotica(datos_prom)"
   ]
  },
  {
   "cell_type": "markdown",
   "metadata": {},
   "source": [
    "### Burbuja Original - Único Caso"
   ]
  },
  {
   "cell_type": "code",
   "execution_count": 20,
   "metadata": {},
   "outputs": [],
   "source": [
    "clase_prom, datos_prom = big_o(lambda A: burbuja(A), \n",
    "                     generar_caso_promedio,\n",
    "                     min_n=10, max_n=1000,\n",
    "                     n_measures=990, n_repeats=3,\n",
    "                     verbose=False, return_raw_data=True,\n",
    "                     classes=[cls.Quadratic])"
   ]
  },
  {
   "cell_type": "code",
   "execution_count": 21,
   "metadata": {},
   "outputs": [
    {
     "data": {
      "image/png": "[encoded data removed]",
      "text/plain": [
       "<Figure size 432x288 with 1 Axes>"
      ]
     },
     "metadata": {
      "needs_background": "light"
     },
     "output_type": "display_data"
    }
   ],
   "source": [
    "prom_xs = datos_prom['measures']\n",
    "prom_ys = datos_prom['times']\n",
    "burb_prom_aprox = clase_prom.compute(prom_xs)\n",
    "\n",
    "\n",
    "plt.plot(prom_xs, prom_ys, label = 'Burbuja: Lista Aleatoria')\n",
    "plt.plot(prom_xs, burb_prom_aprox, label = 'Aprox Aleatoria')\n",
    "\n",
    "plt.ylabel('Tiempo (s)')\n",
    "plt.xlabel('n (tamaño del arreglo)')\n",
    "plt.legend(loc = 2)\n",
    "plt.show()"
   ]
  },
  {
   "cell_type": "code",
   "execution_count": 22,
   "metadata": {},
   "outputs": [
    {
     "name": "stdout",
     "output_type": "stream",
     "text": [
      "Quadratic: time = -0.0018 + 2E-07*n^2 (sec)  (r=0.02067104211232178, r^2=0.9943778053834098)\n"
     ]
    }
   ],
   "source": [
    "aprox_asintotica(datos_prom)"
   ]
  },
  {
   "cell_type": "markdown",
   "metadata": {},
   "source": [
    "### Burbuja Optimizada - Caso Promedio"
   ]
  },
  {
   "cell_type": "code",
   "execution_count": 23,
   "metadata": {},
   "outputs": [],
   "source": [
    "clase_prom, datos_prom = big_o(lambda A: burbuja_optimizado(A), \n",
    "                     generar_caso_promedio,\n",
    "                     min_n=10, max_n=1000,\n",
    "                     n_measures=990, n_repeats=3,\n",
    "                     verbose=False, return_raw_data=True,\n",
    "                     classes=[cls.Quadratic])"
   ]
  },
  {
   "cell_type": "code",
   "execution_count": 24,
   "metadata": {},
   "outputs": [
    {
     "data": {
      "image/png": "[encoded data removed]",
      "text/plain": [
       "<Figure size 432x288 with 1 Axes>"
      ]
     },
     "metadata": {
      "needs_background": "light"
     },
     "output_type": "display_data"
    }
   ],
   "source": [
    "prom_xs = datos_prom['measures']\n",
    "prom_ys = datos_prom['times']\n",
    "burb_opt_prom_aprox = clase_prom.compute(prom_xs)\n",
    "\n",
    "plt.plot(prom_xs, prom_ys, label = 'Burbuja Optimizado: Caso Promedio')\n",
    "plt.plot(prom_xs, burb_opt_prom_aprox, label = 'Aprox Promedio')\n",
    "plt.ylabel('Tiempo (s)')\n",
    "plt.xlabel('n (tamaño del arreglo)')\n",
    "plt.legend(loc = 2)\n",
    "plt.show()"
   ]
  },
  {
   "cell_type": "code",
   "execution_count": 25,
   "metadata": {},
   "outputs": [
    {
     "name": "stdout",
     "output_type": "stream",
     "text": [
      "Quadratic: time = -0.0014 + 1E-07*n^2 (sec)  (r=0.002904054308070702, r^2=0.9967060626732315)\n"
     ]
    }
   ],
   "source": [
    "aprox_asintotica(datos_prom)"
   ]
  },
  {
   "cell_type": "markdown",
   "metadata": {},
   "source": [
    "### Comparación de Resultados:\n",
    "Se realizará una comparación entre los resultados extraídos, con ello podremos verificar los diferentes rendimientos y posteriormente compararlos para determinar si existe alguna diferencia entre los algoritmos."
   ]
  },
  {
   "cell_type": "markdown",
   "metadata": {},
   "source": [
    "#### 1. Comparación de Algoritmos - Único Caso"
   ]
  },
  {
   "cell_type": "code",
   "execution_count": 26,
   "metadata": {},
   "outputs": [
    {
     "data": {
      "image/png": "[encoded data removed]",
      "text/plain": [
       "<Figure size 432x288 with 1 Axes>"
      ]
     },
     "metadata": {
      "needs_background": "light"
     },
     "output_type": "display_data"
    }
   ],
   "source": [
    "plt.plot(prom_xs, selec_prom_aprox, label = 'Selección')\n",
    "plt.plot(prom_xs, burb_prom_aprox, label = 'Burbuja')\n",
    "plt.ylabel('Tiempo (s)')\n",
    "plt.xlabel('n (tamaño del arreglo)')\n",
    "plt.legend(loc = 2)\n",
    "plt.show()"
   ]
  },
  {
   "cell_type": "code",
   "execution_count": 27,
   "metadata": {},
   "outputs": [],
   "source": [
    "compTiempos = pd.DataFrame({\n",
    "    'n': prom_xs,\n",
    "    'Seleccion': selec_prom_aprox,\n",
    "    'Burbuja': burb_prom_aprox,\n",
    "})"
   ]
  },
  {
   "cell_type": "code",
   "execution_count": 28,
   "metadata": {},
   "outputs": [
    {
     "data": {
      "text/html": [
       "<div>\n",
       "<style scoped>\n",
       "    .dataframe tbody tr th:only-of-type {\n",
       "        vertical-align: middle;\n",
       "    }\n",
       "\n",
       "    .dataframe tbody tr th {\n",
       "        vertical-align: top;\n",
       "    }\n",
       "\n",
       "    .dataframe thead th {\n",
       "        text-align: right;\n",
       "    }\n",
       "</style>\n",
       "<table border=\"1\" class=\"dataframe\">\n",
       "  <thead>\n",
       "    <tr style=\"text-align: right;\">\n",
       "      <th></th>\n",
       "      <th>n</th>\n",
       "      <th>Seleccion</th>\n",
       "      <th>Burbuja</th>\n",
       "    </tr>\n",
       "  </thead>\n",
       "  <tbody>\n",
       "    <tr>\n",
       "      <th>0</th>\n",
       "      <td>10</td>\n",
       "      <td>-0.000055</td>\n",
       "      <td>-0.001808</td>\n",
       "    </tr>\n",
       "    <tr>\n",
       "      <th>1</th>\n",
       "      <td>11</td>\n",
       "      <td>-0.000052</td>\n",
       "      <td>-0.001804</td>\n",
       "    </tr>\n",
       "    <tr>\n",
       "      <th>2</th>\n",
       "      <td>12</td>\n",
       "      <td>-0.000050</td>\n",
       "      <td>-0.001799</td>\n",
       "    </tr>\n",
       "    <tr>\n",
       "      <th>3</th>\n",
       "      <td>13</td>\n",
       "      <td>-0.000046</td>\n",
       "      <td>-0.001794</td>\n",
       "    </tr>\n",
       "    <tr>\n",
       "      <th>4</th>\n",
       "      <td>14</td>\n",
       "      <td>-0.000043</td>\n",
       "      <td>-0.001789</td>\n",
       "    </tr>\n",
       "    <tr>\n",
       "      <th>...</th>\n",
       "      <td>...</td>\n",
       "      <td>...</td>\n",
       "      <td>...</td>\n",
       "    </tr>\n",
       "    <tr>\n",
       "      <th>985</th>\n",
       "      <td>995</td>\n",
       "      <td>0.126606</td>\n",
       "      <td>0.200419</td>\n",
       "    </tr>\n",
       "    <tr>\n",
       "      <th>986</th>\n",
       "      <td>996</td>\n",
       "      <td>0.126861</td>\n",
       "      <td>0.200825</td>\n",
       "    </tr>\n",
       "    <tr>\n",
       "      <th>987</th>\n",
       "      <td>997</td>\n",
       "      <td>0.127116</td>\n",
       "      <td>0.201233</td>\n",
       "    </tr>\n",
       "    <tr>\n",
       "      <th>988</th>\n",
       "      <td>998</td>\n",
       "      <td>0.127371</td>\n",
       "      <td>0.201640</td>\n",
       "    </tr>\n",
       "    <tr>\n",
       "      <th>989</th>\n",
       "      <td>1000</td>\n",
       "      <td>0.127883</td>\n",
       "      <td>0.202456</td>\n",
       "    </tr>\n",
       "  </tbody>\n",
       "</table>\n",
       "<p>990 rows × 3 columns</p>\n",
       "</div>"
      ],
      "text/plain": [
       "        n  Seleccion   Burbuja\n",
       "0      10  -0.000055 -0.001808\n",
       "1      11  -0.000052 -0.001804\n",
       "2      12  -0.000050 -0.001799\n",
       "3      13  -0.000046 -0.001794\n",
       "4      14  -0.000043 -0.001789\n",
       "..    ...        ...       ...\n",
       "985   995   0.126606  0.200419\n",
       "986   996   0.126861  0.200825\n",
       "987   997   0.127116  0.201233\n",
       "988   998   0.127371  0.201640\n",
       "989  1000   0.127883  0.202456\n",
       "\n",
       "[990 rows x 3 columns]"
      ]
     },
     "metadata": {},
     "output_type": "display_data"
    }
   ],
   "source": [
    "display(compTiempos)"
   ]
  },
  {
   "cell_type": "markdown",
   "metadata": {},
   "source": [
    "#### 2. Comparación de Algoritmos - Caso Promedio"
   ]
  },
  {
   "cell_type": "code",
   "execution_count": 29,
   "metadata": {},
   "outputs": [
    {
     "data": {
      "image/png": "[encoded data removed]",
      "text/plain": [
       "<Figure size 432x288 with 1 Axes>"
      ]
     },
     "metadata": {
      "needs_background": "light"
     },
     "output_type": "display_data"
    }
   ],
   "source": [
    "plt.plot(prom_xs, inser_prom_aprox, label = 'Inserción')\n",
    "plt.plot(prom_xs, burb_opt_prom_aprox, label = 'Burbuja Optimizado')\n",
    "plt.ylabel('Tiempo (s)')\n",
    "plt.xlabel('n (tamaño del arreglo)')\n",
    "plt.legend(loc = 2)\n",
    "plt.show()"
   ]
  },
  {
   "cell_type": "code",
   "execution_count": 30,
   "metadata": {},
   "outputs": [],
   "source": [
    "compTiempos = pd.DataFrame({\n",
    "    'n': prom_xs,\n",
    "    'Insercion': inser_prom_aprox,\n",
    "    'Burb. Optimizado': burb_opt_prom_aprox\n",
    "})"
   ]
  },
  {
   "cell_type": "code",
   "execution_count": 31,
   "metadata": {},
   "outputs": [
    {
     "data": {
      "text/html": [
       "<div>\n",
       "<style scoped>\n",
       "    .dataframe tbody tr th:only-of-type {\n",
       "        vertical-align: middle;\n",
       "    }\n",
       "\n",
       "    .dataframe tbody tr th {\n",
       "        vertical-align: top;\n",
       "    }\n",
       "\n",
       "    .dataframe thead th {\n",
       "        text-align: right;\n",
       "    }\n",
       "</style>\n",
       "<table border=\"1\" class=\"dataframe\">\n",
       "  <thead>\n",
       "    <tr style=\"text-align: right;\">\n",
       "      <th></th>\n",
       "      <th>n</th>\n",
       "      <th>Insercion</th>\n",
       "      <th>Burb. Optimizado</th>\n",
       "    </tr>\n",
       "  </thead>\n",
       "  <tbody>\n",
       "    <tr>\n",
       "      <th>0</th>\n",
       "      <td>10</td>\n",
       "      <td>-0.000445</td>\n",
       "      <td>-0.001415</td>\n",
       "    </tr>\n",
       "    <tr>\n",
       "      <th>1</th>\n",
       "      <td>11</td>\n",
       "      <td>-0.000444</td>\n",
       "      <td>-0.001412</td>\n",
       "    </tr>\n",
       "    <tr>\n",
       "      <th>2</th>\n",
       "      <td>12</td>\n",
       "      <td>-0.000443</td>\n",
       "      <td>-0.001410</td>\n",
       "    </tr>\n",
       "    <tr>\n",
       "      <th>3</th>\n",
       "      <td>13</td>\n",
       "      <td>-0.000442</td>\n",
       "      <td>-0.001408</td>\n",
       "    </tr>\n",
       "    <tr>\n",
       "      <th>4</th>\n",
       "      <td>14</td>\n",
       "      <td>-0.000440</td>\n",
       "      <td>-0.001405</td>\n",
       "    </tr>\n",
       "    <tr>\n",
       "      <th>...</th>\n",
       "      <td>...</td>\n",
       "      <td>...</td>\n",
       "      <td>...</td>\n",
       "    </tr>\n",
       "    <tr>\n",
       "      <th>985</th>\n",
       "      <td>995</td>\n",
       "      <td>0.046663</td>\n",
       "      <td>0.097729</td>\n",
       "    </tr>\n",
       "    <tr>\n",
       "      <th>986</th>\n",
       "      <td>996</td>\n",
       "      <td>0.046758</td>\n",
       "      <td>0.097928</td>\n",
       "    </tr>\n",
       "    <tr>\n",
       "      <th>987</th>\n",
       "      <td>997</td>\n",
       "      <td>0.046852</td>\n",
       "      <td>0.098128</td>\n",
       "    </tr>\n",
       "    <tr>\n",
       "      <th>988</th>\n",
       "      <td>998</td>\n",
       "      <td>0.046947</td>\n",
       "      <td>0.098328</td>\n",
       "    </tr>\n",
       "    <tr>\n",
       "      <th>989</th>\n",
       "      <td>1000</td>\n",
       "      <td>0.047137</td>\n",
       "      <td>0.098728</td>\n",
       "    </tr>\n",
       "  </tbody>\n",
       "</table>\n",
       "<p>990 rows × 3 columns</p>\n",
       "</div>"
      ],
      "text/plain": [
       "        n  Insercion  Burb. Optimizado\n",
       "0      10  -0.000445         -0.001415\n",
       "1      11  -0.000444         -0.001412\n",
       "2      12  -0.000443         -0.001410\n",
       "3      13  -0.000442         -0.001408\n",
       "4      14  -0.000440         -0.001405\n",
       "..    ...        ...               ...\n",
       "985   995   0.046663          0.097729\n",
       "986   996   0.046758          0.097928\n",
       "987   997   0.046852          0.098128\n",
       "988   998   0.046947          0.098328\n",
       "989  1000   0.047137          0.098728\n",
       "\n",
       "[990 rows x 3 columns]"
      ]
     },
     "metadata": {},
     "output_type": "display_data"
    }
   ],
   "source": [
    "display(compTiempos)"
   ]
  },
  {
   "cell_type": "markdown",
   "metadata": {},
   "source": [
    "#### 3. Comparación de Algoritmos - Mejores Algoritmos "
   ]
  },
  {
   "cell_type": "code",
   "execution_count": 32,
   "metadata": {},
   "outputs": [
    {
     "data": {
      "image/png": "[encoded data removed]",
      "text/plain": [
       "<Figure size 432x288 with 1 Axes>"
      ]
     },
     "metadata": {
      "needs_background": "light"
     },
     "output_type": "display_data"
    }
   ],
   "source": [
    "plt.plot(prom_xs, inser_prom_aprox, label = 'Inserción')\n",
    "plt.plot(prom_xs, burb_prom_aprox, label = 'Burbuja')\n",
    "plt.ylabel('Tiempo (s)')\n",
    "plt.xlabel('n (tamaño del arreglo)')\n",
    "plt.legend(loc = 2)\n",
    "plt.show()"
   ]
  },
  {
   "cell_type": "code",
   "execution_count": 33,
   "metadata": {},
   "outputs": [],
   "source": [
    "compTiempos = pd.DataFrame({\n",
    "    'n': prom_xs,\n",
    "    'Seleccion': selec_prom_aprox,\n",
    "    'Inserción': inser_prom_aprox,\n",
    "})"
   ]
  },
  {
   "cell_type": "code",
   "execution_count": 34,
   "metadata": {},
   "outputs": [
    {
     "data": {
      "text/html": [
       "<div>\n",
       "<style scoped>\n",
       "    .dataframe tbody tr th:only-of-type {\n",
       "        vertical-align: middle;\n",
       "    }\n",
       "\n",
       "    .dataframe tbody tr th {\n",
       "        vertical-align: top;\n",
       "    }\n",
       "\n",
       "    .dataframe thead th {\n",
       "        text-align: right;\n",
       "    }\n",
       "</style>\n",
       "<table border=\"1\" class=\"dataframe\">\n",
       "  <thead>\n",
       "    <tr style=\"text-align: right;\">\n",
       "      <th></th>\n",
       "      <th>n</th>\n",
       "      <th>Seleccion</th>\n",
       "      <th>Inserción</th>\n",
       "    </tr>\n",
       "  </thead>\n",
       "  <tbody>\n",
       "    <tr>\n",
       "      <th>0</th>\n",
       "      <td>10</td>\n",
       "      <td>-0.000055</td>\n",
       "      <td>-0.000445</td>\n",
       "    </tr>\n",
       "    <tr>\n",
       "      <th>1</th>\n",
       "      <td>11</td>\n",
       "      <td>-0.000052</td>\n",
       "      <td>-0.000444</td>\n",
       "    </tr>\n",
       "    <tr>\n",
       "      <th>2</th>\n",
       "      <td>12</td>\n",
       "      <td>-0.000050</td>\n",
       "      <td>-0.000443</td>\n",
       "    </tr>\n",
       "    <tr>\n",
       "      <th>3</th>\n",
       "      <td>13</td>\n",
       "      <td>-0.000046</td>\n",
       "      <td>-0.000442</td>\n",
       "    </tr>\n",
       "    <tr>\n",
       "      <th>4</th>\n",
       "      <td>14</td>\n",
       "      <td>-0.000043</td>\n",
       "      <td>-0.000440</td>\n",
       "    </tr>\n",
       "    <tr>\n",
       "      <th>...</th>\n",
       "      <td>...</td>\n",
       "      <td>...</td>\n",
       "      <td>...</td>\n",
       "    </tr>\n",
       "    <tr>\n",
       "      <th>985</th>\n",
       "      <td>995</td>\n",
       "      <td>0.126606</td>\n",
       "      <td>0.046663</td>\n",
       "    </tr>\n",
       "    <tr>\n",
       "      <th>986</th>\n",
       "      <td>996</td>\n",
       "      <td>0.126861</td>\n",
       "      <td>0.046758</td>\n",
       "    </tr>\n",
       "    <tr>\n",
       "      <th>987</th>\n",
       "      <td>997</td>\n",
       "      <td>0.127116</td>\n",
       "      <td>0.046852</td>\n",
       "    </tr>\n",
       "    <tr>\n",
       "      <th>988</th>\n",
       "      <td>998</td>\n",
       "      <td>0.127371</td>\n",
       "      <td>0.046947</td>\n",
       "    </tr>\n",
       "    <tr>\n",
       "      <th>989</th>\n",
       "      <td>1000</td>\n",
       "      <td>0.127883</td>\n",
       "      <td>0.047137</td>\n",
       "    </tr>\n",
       "  </tbody>\n",
       "</table>\n",
       "<p>990 rows × 3 columns</p>\n",
       "</div>"
      ],
      "text/plain": [
       "        n  Seleccion  Inserción\n",
       "0      10  -0.000055  -0.000445\n",
       "1      11  -0.000052  -0.000444\n",
       "2      12  -0.000050  -0.000443\n",
       "3      13  -0.000046  -0.000442\n",
       "4      14  -0.000043  -0.000440\n",
       "..    ...        ...        ...\n",
       "985   995   0.126606   0.046663\n",
       "986   996   0.126861   0.046758\n",
       "987   997   0.127116   0.046852\n",
       "988   998   0.127371   0.046947\n",
       "989  1000   0.127883   0.047137\n",
       "\n",
       "[990 rows x 3 columns]"
      ]
     },
     "metadata": {},
     "output_type": "display_data"
    }
   ],
   "source": [
    "display(compTiempos)"
   ]
  },
  {
   "cell_type": "markdown",
   "metadata": {},
   "source": [
    "## Análisis de Resultados\n",
    "\n",
    "Mediante los diferentes experimentos realizados a los algoritmos de ordenamiento por adyacentes se puede observar una gran diferencia en rendimientos a pesar de que todos tienen una complejidad temporal de $\\mathcal{O}(n^2)$. Es evidente que los algoritmos de Burbuja y Selección tienen un peor rendimiento con entradas de gran tamaño, esto debido a que tienen un único caso. Por otro lado los algoritmos de Burbuja Optimizada e Inserción tuvieron un mejor rendimiento en las pruebas debido a que estos terminan su ejecución cuando la lista ya esta ordenada.\n",
    "\n",
    "\n",
    "Comparando los algoritmos de Selección y Burbuja, la comparación 1 provee datos concluyentes con respecto a la diferencia de complejidad temporal entre los algoritmos. El grafico de la comparación de tiempos según la entrada en el primer experimento nos permite visualizar de una mejor manera que el algoritmo burbuja tiene un peor rendimiento cuando el tamaño de la entrada es muy grande.\n",
    "\n",
    "\n",
    "Comparando los algoritmos de Inserción y Burbuja Optimizada, la comparación 2 provee datos concluyentes con respecto a la diferencia de complejidad temporal entre los algoritmos. El grafico de la comparación de tiempos según la entrada en el segundo experimento nos permite visualizar de una mejor manera que el algoritmo inserción tiene un mejor rendimiento cuando el tamaño de la entrada es muy grande.\n",
    "\n",
    "\n",
    "Finalmente, la comparación 3 provee datos concluyentes con respecto a la diferencia de complejidad temporal entre los algoritmos. El grafico de la comparación de tiempos según la entrada en el tercer experimento nos permite visualizar de una mejor manera que el algoritmo inserción es el que tiene el mejor rendimiento, a pesar de que inicialmente el algoritmo de selección tiene un mejor rendimiento con listas pequeñas, la tasa de crecimiento temporal del algoritmo de inserción conforme el tamaño de la lista es más grande es mucho menor que cualquier otro algoritmo, colocándole como el algoritmo más eficiente."
   ]
  },
  {
   "cell_type": "markdown",
   "metadata": {},
   "source": [
    "## Conclusión\n",
    "\n",
    "Con base al análisis de resultados podemos concluir que la hipótesis planteada anteriormente es correcta. Ya que como se pudo demostrar mediante los gráficos y tablas en los experimentos haciendo una comparación con todos los algoritmos de intercambios por adyacentes, se pudo concluir de manera certera que el algoritmo más eficiente tomando en cuenta el tiempo de duración con respecto al tamaño de la entrada es el algoritmo de inserción.\n"
   ]
  }
 ],
 "metadata": {
  "kernelspec": {
   "display_name": "Python 3",
   "language": "python",
   "name": "python3"
  },
  "language_info": {
   "codemirror_mode": {
    "name": "ipython",
    "version": 3
   },
   "file_extension": ".py",
   "mimetype": "text/x-python",
   "name": "python",
   "nbconvert_exporter": "python",
   "pygments_lexer": "ipython3",
   "version": "3.8.5"
  }
 },
 "nbformat": 4,
 "nbformat_minor": 4
}
