{
 "cells": [
  {
   "cell_type": "markdown",
   "id": "15fcff34",
   "metadata": {},
   "source": [
    "## Problema ##"
   ]
  },
  {
   "cell_type": "markdown",
   "id": "f0090520",
   "metadata": {},
   "source": [
    "¿Cuál es la combinación de parámetros recomendada para la resolución del problema del vendedor viajero para 17 localidades de Costa Rica con un algoritmo genético?"
   ]
  },
  {
   "cell_type": "markdown",
   "id": "54403277",
   "metadata": {},
   "source": [
    "## Hipótesis ##"
   ]
  },
  {
   "cell_type": "markdown",
   "id": "ba5e0c94",
   "metadata": {},
   "source": [
    "Si se ejecutan una solución con respecto al problema del vendedor viajero y que los parámetro que tenga por entrada en este caso la población y probabilidad de mutación siendo los más significativos en cuanto cambios en el resultaods, entre más grande sea este parametro la solución que tenga el algoritmo será más óptima cogiendo así un conjunto de permutaciones con los valores más bajos y entre más baja sea la población los resultados que retornen serán más inexactos."
   ]
  },
  {
   "cell_type": "markdown",
   "id": "0d3fa9a1",
   "metadata": {},
   "source": [
    "## Metodología ##"
   ]
  },
  {
   "cell_type": "markdown",
   "id": "bce4b8c7",
   "metadata": {},
   "source": [
    "Se van a realizar los siguientes experimentos:\n",
    "\n",
    "**Experimento 1:** Probar la variabilidad de parámetros con los que respecta al porcentaje de elite y la probabilidad de mutación, pero con la condición que los parametros de población y número de repeticiones permanezcan estáticos en el caso de población en **100** y el de repeticiones en 1000.\n",
    "\n",
    "**Experimento 2:** Probar la variabilidad de parámetros con los que respecta al porcentaje de elite y la probabilidad de mutación, pero con la condición que los parametros de población y número de repeticiones permanezcan estáticos en el caso de población en **1000** y el de repeticiones en 1000.\n",
    "\n",
    "**Experimento 3:** Probar la variabilidad de parámetros con los que respecta al porcentaje de elite y la probabilidad de mutación, pero con la condición que los parametros de población y número de repeticiones permanezcan estáticos en el caso de población en **10000** y el de repeticiones en 1000.\n",
    "\n",
    "**Cabe resaltar que en los tres experimentos se van a extraer los tiempos de ejecución determinados con sus respectivos parámetros y casos para compararlos entre sí.**"
   ]
  },
  {
   "cell_type": "markdown",
   "id": "de7e9643",
   "metadata": {},
   "source": [
    "### Experimento 1\n",
    "Para probar la variabilidad de los parámetros del experimento 1 se tomarán de la siguiente manera:\n",
    "\n",
    "Caso número 1:\n",
    "* `poblacion` = 100\n",
    "* `n_repeticiones` = 1000\n",
    "* `porcentaje_elite` = 0.9\n",
    "* `probabilidad_mutacion` = 0.9\n",
    "\n",
    "Caso número 2:\n",
    "* `poblacion` = 100\n",
    "* `n_repeticiones` = 1000\n",
    "* `porcentaje_elite` = 0.1\n",
    "* `probabilidad_mutacion` = 0.1\n",
    "\n",
    "Caso número 3:\n",
    "* `poblacion` = 100\n",
    "* `n_repeticiones` = 1000\n",
    "* `porcentaje_elite` = 0.9\n",
    "* `probabilidad_mutacion` = 0.1\n",
    "\n",
    "Caso número 4:\n",
    "* `poblacion` = 100\n",
    "* `n_repeticiones` = 1000\n",
    "* `porcentaje_elite` = 0.1\n",
    "* `probabilidad_mutacion` = 0.9\n",
    "\n",
    "### Experimento 2\n",
    "Para probar la variabilidad de los parámetros del experimento 2 se tomarán de la siguiente manera:\n",
    "\n",
    "Caso número 1:\n",
    "* `poblacion` = 1000\n",
    "* `n_repeticiones` = 1000\n",
    "* `porcentaje_elite` = 0.9\n",
    "* `probabilidad_mutacion` = 0.9\n",
    "\n",
    "Caso número 2:\n",
    "* `poblacion` = 1000\n",
    "* `n_repeticiones` = 1000\n",
    "* `porcentaje_elite` = 0.1\n",
    "* `probabilidad_mutacion` = 0.1\n",
    "\n",
    "Caso número 3:\n",
    "* `poblacion` = 1000\n",
    "* `n_repeticiones` = 1000\n",
    "* `porcentaje_elite` = 0.9\n",
    "* `probabilidad_mutacion` = 0.1\n",
    "\n",
    "Caso número 4:\n",
    "* `poblacion` = 1000\n",
    "* `n_repeticiones` = 1000\n",
    "* `porcentaje_elite` = 0.1\n",
    "* `probabilidad_mutacion` = 0.9\n",
    "\n",
    "### Experimento 3\n",
    "Para probar la variabilidad de los parámetros del experimento 3 se tomarán de la siguiente manera:\n",
    "\n",
    "Caso número 1:\n",
    "* `poblacion` = 10000\n",
    "* `n_repeticiones` = 1000\n",
    "* `porcentaje_elite` = 0.9\n",
    "* `probabilidad_mutacion` = 0.9\n",
    "\n",
    "Caso número 2:\n",
    "* `poblacion` = 10000\n",
    "* `n_repeticiones` = 1000\n",
    "* `porcentaje_elite` = 0.1\n",
    "* `probabilidad_mutacion` = 0.1\n",
    "\n",
    "Caso número 3:\n",
    "* `poblacion` = 10000\n",
    "* `n_repeticiones` = 1000\n",
    "* `porcentaje_elite` = 0.9\n",
    "* `probabilidad_mutacion` = 0.1\n",
    "\n",
    "Caso número 4:\n",
    "* `poblacion` = 10000\n",
    "* `n_repeticiones` = 1000\n",
    "* `porcentaje_elite` = 0.1\n",
    "* `probabilidad_mutacion` = 0.9"
   ]
  },
  {
   "cell_type": "markdown",
   "id": "7a71968b",
   "metadata": {},
   "source": [
    "### Experimentos ###"
   ]
  },
  {
   "cell_type": "code",
   "execution_count": 51,
   "id": "edfa159d",
   "metadata": {},
   "outputs": [],
   "source": [
    "import unittest\n",
    "import matplotlib.pyplot as plt\n",
    "\n",
    "from algoritmo_genetico import optimizar\n",
    "from dominio_tsp import DominioTSP"
   ]
  },
  {
   "cell_type": "markdown",
   "id": "cdab8217",
   "metadata": {},
   "source": [
    "**Código para el experimento 1**\n",
    "\n",
    "**Caso 1:**"
   ]
  },
  {
   "cell_type": "code",
   "execution_count": 52,
   "id": "b4540933",
   "metadata": {},
   "outputs": [],
   "source": [
    "class PruebaAlgoritmoGenetico(unittest.TestCase):\n",
    "\n",
    "    def test_optimizar(self):\n",
    "        dominio = DominioTSP('datos/ciudades_cr_pruebas.csv', 'Alajuela')\n",
    "        sol = optimizar(dominio, 100, 0.9, 0.9, 1000)\n",
    "        self.assertTrue(dominio.validar(sol))\n",
    "        self.assertAlmostEqual(dominio.fcosto(sol), 121.2)"
   ]
  },
  {
   "cell_type": "markdown",
   "id": "8586f4c6",
   "metadata": {},
   "source": [
    "**Caso 2:**"
   ]
  },
  {
   "cell_type": "code",
   "execution_count": 53,
   "id": "00e764a2",
   "metadata": {},
   "outputs": [],
   "source": [
    "class PruebaAlgoritmoGenetico(unittest.TestCase):\n",
    "\n",
    "    def test_optimizar(self):\n",
    "        dominio = DominioTSP('datos/ciudades_cr_pruebas.csv', 'Alajuela')\n",
    "        sol = optimizar(dominio, 100, 0.1, 0.1, 1000)\n",
    "        self.assertTrue(dominio.validar(sol))\n",
    "        self.assertAlmostEqual(dominio.fcosto(sol), 121.2)"
   ]
  },
  {
   "cell_type": "markdown",
   "id": "061530a5",
   "metadata": {},
   "source": [
    "**Caso 3:**"
   ]
  },
  {
   "cell_type": "code",
   "execution_count": 54,
   "id": "10807529",
   "metadata": {},
   "outputs": [],
   "source": [
    "class PruebaAlgoritmoGenetico(unittest.TestCase):\n",
    "\n",
    "    def test_optimizar(self):\n",
    "        dominio = DominioTSP('datos/ciudades_cr_pruebas.csv', 'Alajuela')\n",
    "        sol = optimizar(dominio, 100, 0.9, 0.1, 1000)\n",
    "        self.assertTrue(dominio.validar(sol))\n",
    "        self.assertAlmostEqual(dominio.fcosto(sol), 121.2)"
   ]
  },
  {
   "cell_type": "markdown",
   "id": "acb78e8a",
   "metadata": {},
   "source": [
    "**Caso 4:**"
   ]
  },
  {
   "cell_type": "code",
   "execution_count": 55,
   "id": "6f15a4c7",
   "metadata": {},
   "outputs": [],
   "source": [
    "class PruebaAlgoritmoGenetico(unittest.TestCase):\n",
    "\n",
    "    def test_optimizar(self):\n",
    "        dominio = DominioTSP('datos/ciudades_cr_pruebas.csv', 'Alajuela')\n",
    "        sol = optimizar(dominio, 100, 0.1, 0.9, 1000)\n",
    "        self.assertTrue(dominio.validar(sol))\n",
    "        self.assertAlmostEqual(dominio.fcosto(sol), 121.2)"
   ]
  },
  {
   "cell_type": "markdown",
   "id": "23c02be6",
   "metadata": {},
   "source": [
    "**Código para el experimento 2**\n",
    "\n",
    "**Caso 1:**"
   ]
  },
  {
   "cell_type": "code",
   "execution_count": 56,
   "id": "d8a6d568",
   "metadata": {},
   "outputs": [],
   "source": [
    "class PruebaAlgoritmoGenetico(unittest.TestCase):\n",
    "\n",
    "    def test_optimizar(self):\n",
    "        dominio = DominioTSP('datos/ciudades_cr_pruebas.csv', 'Alajuela')\n",
    "        sol = optimizar(dominio, 1000, 0.9, 0.9, 1000)\n",
    "        self.assertTrue(dominio.validar(sol))\n",
    "        self.assertAlmostEqual(dominio.fcosto(sol), 121.2)"
   ]
  },
  {
   "cell_type": "markdown",
   "id": "a8a3e2b9",
   "metadata": {},
   "source": [
    "**Caso 2:**"
   ]
  },
  {
   "cell_type": "code",
   "execution_count": 57,
   "id": "d29c035b",
   "metadata": {},
   "outputs": [],
   "source": [
    "class PruebaAlgoritmoGenetico(unittest.TestCase):\n",
    "\n",
    "    def test_optimizar(self):\n",
    "        dominio = DominioTSP('datos/ciudades_cr_pruebas.csv', 'Alajuela')\n",
    "        sol = optimizar(dominio, 1000, 0.1, 0.1, 1000)\n",
    "        self.assertTrue(dominio.validar(sol))\n",
    "        self.assertAlmostEqual(dominio.fcosto(sol), 121.2)"
   ]
  },
  {
   "cell_type": "markdown",
   "id": "b70564aa",
   "metadata": {},
   "source": [
    "**Caso 3:**"
   ]
  },
  {
   "cell_type": "code",
   "execution_count": 58,
   "id": "e78aea6b",
   "metadata": {},
   "outputs": [],
   "source": [
    "class PruebaAlgoritmoGenetico(unittest.TestCase):\n",
    "\n",
    "    def test_optimizar(self):\n",
    "        dominio = DominioTSP('datos/ciudades_cr_pruebas.csv', 'Alajuela')\n",
    "        sol = optimizar(dominio, 1000, 0.9, 0.1, 1000)\n",
    "        self.assertTrue(dominio.validar(sol))\n",
    "        self.assertAlmostEqual(dominio.fcosto(sol), 121.2)"
   ]
  },
  {
   "cell_type": "markdown",
   "id": "3330d052",
   "metadata": {},
   "source": [
    "**Caso 4:**"
   ]
  },
  {
   "cell_type": "code",
   "execution_count": 59,
   "id": "e726961b",
   "metadata": {},
   "outputs": [],
   "source": [
    "class PruebaAlgoritmoGenetico(unittest.TestCase):\n",
    "\n",
    "    def test_optimizar(self):\n",
    "        dominio = DominioTSP('datos/ciudades_cr_pruebas.csv', 'Alajuela')\n",
    "        sol = optimizar(dominio, 1000, 0.1, 0.9, 1000)\n",
    "        self.assertTrue(dominio.validar(sol))\n",
    "        self.assertAlmostEqual(dominio.fcosto(sol), 121.2)"
   ]
  },
  {
   "cell_type": "markdown",
   "id": "a4c659ab",
   "metadata": {},
   "source": [
    "**Código para el experimento 3**\n",
    "\n",
    "**Caso 1:**"
   ]
  },
  {
   "cell_type": "code",
   "execution_count": 60,
   "id": "3b6cb91c",
   "metadata": {},
   "outputs": [],
   "source": [
    "class PruebaAlgoritmoGenetico(unittest.TestCase):\n",
    "\n",
    "    def test_optimizar(self):\n",
    "        dominio = DominioTSP('datos/ciudades_cr_pruebas.csv', 'Alajuela')\n",
    "        sol = optimizar(dominio, 10000, 0.9, 0.9, 1000)\n",
    "        self.assertTrue(dominio.validar(sol))\n",
    "        self.assertAlmostEqual(dominio.fcosto(sol), 121.2)"
   ]
  },
  {
   "cell_type": "markdown",
   "id": "1197f36b",
   "metadata": {},
   "source": [
    "**Caso 2:**"
   ]
  },
  {
   "cell_type": "code",
   "execution_count": 61,
   "id": "69425894",
   "metadata": {},
   "outputs": [],
   "source": [
    "class PruebaAlgoritmoGenetico(unittest.TestCase):\n",
    "\n",
    "    def test_optimizar(self):\n",
    "        dominio = DominioTSP('datos/ciudades_cr_pruebas.csv', 'Alajuela')\n",
    "        sol = optimizar(dominio, 10000, 0.1, 0.1, 1000)\n",
    "        self.assertTrue(dominio.validar(sol))\n",
    "        self.assertAlmostEqual(dominio.fcosto(sol), 121.2)"
   ]
  },
  {
   "cell_type": "markdown",
   "id": "c633f725",
   "metadata": {},
   "source": [
    "**Caso 3:**"
   ]
  },
  {
   "cell_type": "code",
   "execution_count": 62,
   "id": "c5fd78d4",
   "metadata": {},
   "outputs": [],
   "source": [
    "class PruebaAlgoritmoGenetico(unittest.TestCase):\n",
    "\n",
    "    def test_optimizar(self):\n",
    "        dominio = DominioTSP('datos/ciudades_cr_pruebas.csv', 'Alajuela')\n",
    "        sol = optimizar(dominio, 10000, 0.9, 0.1, 1000)\n",
    "        self.assertTrue(dominio.validar(sol))\n",
    "        self.assertAlmostEqual(dominio.fcosto(sol), 121.2)"
   ]
  },
  {
   "cell_type": "markdown",
   "id": "2fcf5c7b",
   "metadata": {},
   "source": [
    "**Caso 4:**"
   ]
  },
  {
   "cell_type": "code",
   "execution_count": 63,
   "id": "b404aa13",
   "metadata": {},
   "outputs": [],
   "source": [
    "class PruebaAlgoritmoGenetico(unittest.TestCase):\n",
    "\n",
    "    def test_optimizar(self):\n",
    "        dominio = DominioTSP('datos/ciudades_cr_pruebas.csv', 'Alajuela')\n",
    "        sol = optimizar(dominio, 10000, 0.1, 0.9, 1000)\n",
    "        self.assertTrue(dominio.validar(sol))\n",
    "        self.assertAlmostEqual(dominio.fcosto(sol), 121.2)"
   ]
  },
  {
   "cell_type": "markdown",
   "id": "246caa05",
   "metadata": {},
   "source": [
    "## Resultados ##"
   ]
  },
  {
   "cell_type": "markdown",
   "id": "5cd4dfd8",
   "metadata": {},
   "source": [
    "**Experimento 1**"
   ]
  },
  {
   "cell_type": "code",
   "execution_count": 64,
   "id": "5d69d78c",
   "metadata": {},
   "outputs": [
    {
     "data": {
      "image/png": "[encoded data removed]",
      "text/plain": [
       "<Figure size 432x288 with 1 Axes>"
      ]
     },
     "metadata": {
      "needs_background": "light"
     },
     "output_type": "display_data"
    }
   ],
   "source": [
    "eje_x = ['Caso 1','Caso 2','Caso 3','Caso 4']\n",
    "eje_y = [6.16,8.70,6.50,9.15]\n",
    "plt.bar(eje_x, eje_y)\n",
    "plt.ylabel('Tiempo (s)')\n",
    "plt.xlabel('Casos')\n",
    "plt.title('Experimento 1')\n",
    "plt.show()"
   ]
  },
  {
   "cell_type": "markdown",
   "id": "a123bc71",
   "metadata": {},
   "source": [
    "**Experimento 2**"
   ]
  },
  {
   "cell_type": "code",
   "execution_count": 65,
   "id": "ba453e3f",
   "metadata": {},
   "outputs": [
    {
     "data": {
      "image/png": "[encoded data removed]",
      "text/plain": [
       "<Figure size 432x288 with 1 Axes>"
      ]
     },
     "metadata": {
      "needs_background": "light"
     },
     "output_type": "display_data"
    }
   ],
   "source": [
    "eje_x = ['Caso 1','Caso 2','Caso 3','Caso 4']\n",
    "eje_y = [268.61,292.85,278.71,285.06]\n",
    "plt.bar(eje_x, eje_y)\n",
    "plt.ylabel('Tiempo (s)')\n",
    "plt.xlabel('Casos')\n",
    "plt.title('Experimento 2')\n",
    "plt.show()\n"
   ]
  },
  {
   "cell_type": "markdown",
   "id": "8d657b99",
   "metadata": {},
   "source": [
    "**Experimento 3**"
   ]
  },
  {
   "cell_type": "code",
   "execution_count": 66,
   "id": "f7b3bb94",
   "metadata": {},
   "outputs": [
    {
     "data": {
      "image/png": "[encoded data removed]",
      "text/plain": [
       "<Figure size 432x288 with 1 Axes>"
      ]
     },
     "metadata": {
      "needs_background": "light"
     },
     "output_type": "display_data"
    }
   ],
   "source": [
    "eje_x = ['Caso 1','Caso 2','Caso 3','Caso 4']\n",
    "eje_y = [336.70,506.17,344.78,521.15]\n",
    "plt.bar(eje_x, eje_y)\n",
    "plt.ylabel('Tiempo (s)')\n",
    "plt.xlabel('Casos')\n",
    "plt.title('Experimento 3')\n",
    "plt.show()"
   ]
  },
  {
   "cell_type": "markdown",
   "id": "f4fc3580",
   "metadata": {},
   "source": [
    "## Análisis ##"
   ]
  },
  {
   "cell_type": "markdown",
   "id": "4c094cdc",
   "metadata": {},
   "source": [
    "**Experimento 1**"
   ]
  },
  {
   "cell_type": "markdown",
   "id": "137f00b7",
   "metadata": {},
   "source": [
    "Según lo observado en el comportamiento durante la ejecución de este experimento se demuestra que el cambio en los parámetros de entrada determina fuertemente el desarrollo y duración del algoritmo demostrando que la mayor duración se obtuvo con los parametros ajustados a una probabilidad de mutación en alta y un porcentaje de elite bajo, sin embargo la ejecución más veloz se vió con ambos parámetros (probabilidad de mutación y un porcentaje de elite) en su valor mas alto."
   ]
  },
  {
   "cell_type": "markdown",
   "id": "a2725114",
   "metadata": {},
   "source": [
    "**Experimento 2**"
   ]
  },
  {
   "cell_type": "markdown",
   "id": "b350f190",
   "metadata": {},
   "source": [
    "Según lo observado en el comportamiento durante la ejecución de este experimento se demuestra que el cambio en los parámetros de entrada determina fuertemente el desarrollo y duración del algoritmo demostrando que la mayor duración se obtuvo con los parametros ajustados a una probabilidad de mutación baja y un porcentaje de elite bajo, sin embargo la ejecución más veloz se viá con ambos parámetros (probabilidad de mutación y un porcentaje de elite) en su valor mas alto."
   ]
  },
  {
   "cell_type": "markdown",
   "id": "ea52c694",
   "metadata": {},
   "source": [
    "**Experimento 3**"
   ]
  },
  {
   "cell_type": "markdown",
   "id": "02318ad1",
   "metadata": {},
   "source": [
    "Según lo observado en el comportamiento durante la ejecución de este experimento se demuestra que el cambio en los parámetros de entrada determina fuertemente el desarrollo y duración del algoritmo demostrando que la mayor duración se obtuvo con los parametros ajustados a una probabilidad de mutación en alta y un porcentaje de elite bajo, sin embargo la ejecución más veloz se vió con ambos parámetros (probabilidad de mutación y un porcentaje de elite) en su valor mas alto."
   ]
  },
  {
   "cell_type": "markdown",
   "id": "dfb78b24",
   "metadata": {},
   "source": [
    "## Conclusiones ##"
   ]
  },
  {
   "cell_type": "markdown",
   "id": "34e02cc8",
   "metadata": {},
   "source": [
    "Con respecto a la combinación de parámetros que pueda tener el problema del vendedor viajero caben resaltar que existen dos de cuatro parametros que tiene un impacto con respecto a un posible resultado del problema y estos son la probabilidad de mutación y la población siendo así los dos parametros más relevantes en cuanto a los posibles comportamientos que pueda tener el problema del vendedor viajero. Por otra parte los valores que deben de tener los ya anteriores mencionados parametros serían: Una probabilidad de mutación baja significa una menor aletoriedad entre las permutaciones cosa que no se vió reflejadas en los experimentos y una población de un valor mucho mayor hace que de está manera existan una mayor cantidad de permutaciones de donde escoger para que de está manera el algoritmo genético recurra a la más óptima con diferencia entre las demás."
   ]
  }
 ],
 "metadata": {
  "kernelspec": {
   "display_name": "Python 3",
   "language": "python",
   "name": "python3"
  },
  "language_info": {
   "codemirror_mode": {
    "name": "ipython",
    "version": 3
   },
   "file_extension": ".py",
   "mimetype": "text/x-python",
   "name": "python",
   "nbconvert_exporter": "python",
   "pygments_lexer": "ipython3",
   "version": "3.8.5"
  }
 },
 "nbformat": 4,
 "nbformat_minor": 5
}
